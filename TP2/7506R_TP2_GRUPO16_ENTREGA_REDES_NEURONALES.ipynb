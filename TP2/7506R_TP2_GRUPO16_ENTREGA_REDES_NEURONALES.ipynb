{
 "cells": [
  {
   "cell_type": "code",
   "execution_count": 3,
   "metadata": {
    "colab": {
     "base_uri": "https://localhost:8080/"
    },
    "id": "NH6d7Ngtf3cd",
    "outputId": "2565f7bf-d412-4655-dba3-f4ba2f3f0d6a"
   },
   "outputs": [
    {
     "name": "stdout",
     "output_type": "stream",
     "text": [
      "Looking in indexes: https://pypi.org/simple, https://us-python.pkg.dev/colab-wheels/public/simple/\n",
      "Requirement already satisfied: numpy==1.21 in /usr/local/lib/python3.8/dist-packages (1.21.0)\n",
      "Looking in indexes: https://pypi.org/simple, https://us-python.pkg.dev/colab-wheels/public/simple/\n",
      "Requirement already satisfied: dtreeviz in /usr/local/lib/python3.8/dist-packages (1.4.1)\n",
      "Requirement already satisfied: pytest in /usr/local/lib/python3.8/dist-packages (from dtreeviz) (3.6.4)\n",
      "Requirement already satisfied: scikit-learn in /usr/local/lib/python3.8/dist-packages (from dtreeviz) (1.0.2)\n",
      "Requirement already satisfied: numpy in /usr/local/lib/python3.8/dist-packages (from dtreeviz) (1.21.0)\n",
      "Requirement already satisfied: pandas in /usr/local/lib/python3.8/dist-packages (from dtreeviz) (1.3.5)\n",
      "Requirement already satisfied: matplotlib in /usr/local/lib/python3.8/dist-packages (from dtreeviz) (3.1.3)\n",
      "Requirement already satisfied: colour in /usr/local/lib/python3.8/dist-packages (from dtreeviz) (0.1.5)\n",
      "Requirement already satisfied: graphviz>=0.9 in /usr/local/lib/python3.8/dist-packages (from dtreeviz) (0.10.1)\n",
      "Requirement already satisfied: cycler>=0.10 in /usr/local/lib/python3.8/dist-packages (from matplotlib->dtreeviz) (0.11.0)\n",
      "Requirement already satisfied: python-dateutil>=2.1 in /usr/local/lib/python3.8/dist-packages (from matplotlib->dtreeviz) (2.8.2)\n",
      "Requirement already satisfied: kiwisolver>=1.0.1 in /usr/local/lib/python3.8/dist-packages (from matplotlib->dtreeviz) (1.4.4)\n",
      "Requirement already satisfied: pyparsing!=2.0.4,!=2.1.2,!=2.1.6,>=2.0.1 in /usr/local/lib/python3.8/dist-packages (from matplotlib->dtreeviz) (3.0.9)\n",
      "Requirement already satisfied: six>=1.5 in /usr/local/lib/python3.8/dist-packages (from python-dateutil>=2.1->matplotlib->dtreeviz) (1.15.0)\n",
      "Requirement already satisfied: pytz>=2017.3 in /usr/local/lib/python3.8/dist-packages (from pandas->dtreeviz) (2022.6)\n",
      "Requirement already satisfied: more-itertools>=4.0.0 in /usr/local/lib/python3.8/dist-packages (from pytest->dtreeviz) (9.0.0)\n",
      "Requirement already satisfied: py>=1.5.0 in /usr/local/lib/python3.8/dist-packages (from pytest->dtreeviz) (1.11.0)\n",
      "Requirement already satisfied: attrs>=17.4.0 in /usr/local/lib/python3.8/dist-packages (from pytest->dtreeviz) (22.1.0)\n",
      "Requirement already satisfied: setuptools in /usr/local/lib/python3.8/dist-packages (from pytest->dtreeviz) (57.4.0)\n",
      "Requirement already satisfied: pluggy<0.8,>=0.5 in /usr/local/lib/python3.8/dist-packages (from pytest->dtreeviz) (0.7.1)\n",
      "Requirement already satisfied: atomicwrites>=1.0 in /usr/local/lib/python3.8/dist-packages (from pytest->dtreeviz) (1.4.1)\n",
      "Requirement already satisfied: scipy>=1.1.0 in /usr/local/lib/python3.8/dist-packages (from scikit-learn->dtreeviz) (1.7.3)\n",
      "Requirement already satisfied: threadpoolctl>=2.0.0 in /usr/local/lib/python3.8/dist-packages (from scikit-learn->dtreeviz) (3.1.0)\n",
      "Requirement already satisfied: joblib>=0.11 in /usr/local/lib/python3.8/dist-packages (from scikit-learn->dtreeviz) (1.2.0)\n",
      "Looking in indexes: https://pypi.org/simple, https://us-python.pkg.dev/colab-wheels/public/simple/\n",
      "Requirement already satisfied: kneed in /usr/local/lib/python3.8/dist-packages (0.8.1)\n",
      "Requirement already satisfied: numpy>=1.14.2 in /usr/local/lib/python3.8/dist-packages (from kneed) (1.21.0)\n",
      "Requirement already satisfied: scipy>=1.0.0 in /usr/local/lib/python3.8/dist-packages (from kneed) (1.7.3)\n",
      "Looking in indexes: https://pypi.org/simple, https://us-python.pkg.dev/colab-wheels/public/simple/\n",
      "Requirement already satisfied: pyreadstat in /usr/local/lib/python3.8/dist-packages (1.2.0)\n",
      "Requirement already satisfied: pandas>=1.2.0 in /usr/local/lib/python3.8/dist-packages (from pyreadstat) (1.3.5)\n",
      "Requirement already satisfied: pytz>=2017.3 in /usr/local/lib/python3.8/dist-packages (from pandas>=1.2.0->pyreadstat) (2022.6)\n",
      "Requirement already satisfied: numpy>=1.17.3 in /usr/local/lib/python3.8/dist-packages (from pandas>=1.2.0->pyreadstat) (1.21.0)\n",
      "Requirement already satisfied: python-dateutil>=2.7.3 in /usr/local/lib/python3.8/dist-packages (from pandas>=1.2.0->pyreadstat) (2.8.2)\n",
      "Requirement already satisfied: six>=1.5 in /usr/local/lib/python3.8/dist-packages (from python-dateutil>=2.7.3->pandas>=1.2.0->pyreadstat) (1.15.0)\n",
      "Looking in indexes: https://pypi.org/simple, https://us-python.pkg.dev/colab-wheels/public/simple/\n",
      "Requirement already satisfied: visualkeras in /usr/local/lib/python3.8/dist-packages (0.0.2)\n",
      "Requirement already satisfied: aggdraw>=1.3.11 in /usr/local/lib/python3.8/dist-packages (from visualkeras) (1.3.15)\n",
      "Requirement already satisfied: numpy>=1.18.1 in /usr/local/lib/python3.8/dist-packages (from visualkeras) (1.21.0)\n",
      "Requirement already satisfied: pillow>=6.2.0 in /usr/local/lib/python3.8/dist-packages (from visualkeras) (7.1.2)\n",
      "Looking in indexes: https://pypi.org/simple, https://us-python.pkg.dev/colab-wheels/public/simple/\n",
      "Requirement already satisfied: keras_tuner in /usr/local/lib/python3.8/dist-packages (1.1.3)\n",
      "Requirement already satisfied: requests in /usr/local/lib/python3.8/dist-packages (from keras_tuner) (2.23.0)\n",
      "Requirement already satisfied: ipython in /usr/local/lib/python3.8/dist-packages (from keras_tuner) (7.9.0)\n",
      "Requirement already satisfied: packaging in /usr/local/lib/python3.8/dist-packages (from keras_tuner) (21.3)\n",
      "Requirement already satisfied: numpy in /usr/local/lib/python3.8/dist-packages (from keras_tuner) (1.21.0)\n",
      "Requirement already satisfied: tensorboard in /usr/local/lib/python3.8/dist-packages (from keras_tuner) (2.9.1)\n",
      "Requirement already satisfied: kt-legacy in /usr/local/lib/python3.8/dist-packages (from keras_tuner) (1.0.4)\n",
      "Requirement already satisfied: pexpect in /usr/local/lib/python3.8/dist-packages (from ipython->keras_tuner) (4.8.0)\n",
      "Requirement already satisfied: jedi>=0.10 in /usr/local/lib/python3.8/dist-packages (from ipython->keras_tuner) (0.18.2)\n",
      "Requirement already satisfied: prompt-toolkit<2.1.0,>=2.0.0 in /usr/local/lib/python3.8/dist-packages (from ipython->keras_tuner) (2.0.10)\n",
      "Requirement already satisfied: decorator in /usr/local/lib/python3.8/dist-packages (from ipython->keras_tuner) (4.4.2)\n",
      "Requirement already satisfied: pickleshare in /usr/local/lib/python3.8/dist-packages (from ipython->keras_tuner) (0.7.5)\n",
      "Requirement already satisfied: pygments in /usr/local/lib/python3.8/dist-packages (from ipython->keras_tuner) (2.6.1)\n",
      "Requirement already satisfied: traitlets>=4.2 in /usr/local/lib/python3.8/dist-packages (from ipython->keras_tuner) (5.6.0)\n",
      "Requirement already satisfied: backcall in /usr/local/lib/python3.8/dist-packages (from ipython->keras_tuner) (0.2.0)\n",
      "Requirement already satisfied: setuptools>=18.5 in /usr/local/lib/python3.8/dist-packages (from ipython->keras_tuner) (57.4.0)\n",
      "Requirement already satisfied: parso<0.9.0,>=0.8.0 in /usr/local/lib/python3.8/dist-packages (from jedi>=0.10->ipython->keras_tuner) (0.8.3)\n",
      "Requirement already satisfied: six>=1.9.0 in /usr/local/lib/python3.8/dist-packages (from prompt-toolkit<2.1.0,>=2.0.0->ipython->keras_tuner) (1.15.0)\n",
      "Requirement already satisfied: wcwidth in /usr/local/lib/python3.8/dist-packages (from prompt-toolkit<2.1.0,>=2.0.0->ipython->keras_tuner) (0.2.5)\n",
      "Requirement already satisfied: pyparsing!=3.0.5,>=2.0.2 in /usr/local/lib/python3.8/dist-packages (from packaging->keras_tuner) (3.0.9)\n",
      "Requirement already satisfied: ptyprocess>=0.5 in /usr/local/lib/python3.8/dist-packages (from pexpect->ipython->keras_tuner) (0.7.0)\n",
      "Requirement already satisfied: chardet<4,>=3.0.2 in /usr/local/lib/python3.8/dist-packages (from requests->keras_tuner) (3.0.4)\n",
      "Requirement already satisfied: certifi>=2017.4.17 in /usr/local/lib/python3.8/dist-packages (from requests->keras_tuner) (2022.9.24)\n",
      "Requirement already satisfied: idna<3,>=2.5 in /usr/local/lib/python3.8/dist-packages (from requests->keras_tuner) (2.10)\n",
      "Requirement already satisfied: urllib3!=1.25.0,!=1.25.1,<1.26,>=1.21.1 in /usr/local/lib/python3.8/dist-packages (from requests->keras_tuner) (1.24.3)\n",
      "Requirement already satisfied: tensorboard-plugin-wit>=1.6.0 in /usr/local/lib/python3.8/dist-packages (from tensorboard->keras_tuner) (1.8.1)\n",
      "Requirement already satisfied: werkzeug>=1.0.1 in /usr/local/lib/python3.8/dist-packages (from tensorboard->keras_tuner) (1.0.1)\n",
      "Requirement already satisfied: google-auth-oauthlib<0.5,>=0.4.1 in /usr/local/lib/python3.8/dist-packages (from tensorboard->keras_tuner) (0.4.6)\n",
      "Requirement already satisfied: protobuf<3.20,>=3.9.2 in /usr/local/lib/python3.8/dist-packages (from tensorboard->keras_tuner) (3.19.6)\n",
      "Requirement already satisfied: wheel>=0.26 in /usr/local/lib/python3.8/dist-packages (from tensorboard->keras_tuner) (0.38.4)\n",
      "Requirement already satisfied: google-auth<3,>=1.6.3 in /usr/local/lib/python3.8/dist-packages (from tensorboard->keras_tuner) (2.15.0)\n",
      "Requirement already satisfied: absl-py>=0.4 in /usr/local/lib/python3.8/dist-packages (from tensorboard->keras_tuner) (1.3.0)\n",
      "Requirement already satisfied: markdown>=2.6.8 in /usr/local/lib/python3.8/dist-packages (from tensorboard->keras_tuner) (3.4.1)\n",
      "Requirement already satisfied: grpcio>=1.24.3 in /usr/local/lib/python3.8/dist-packages (from tensorboard->keras_tuner) (1.51.1)\n",
      "Requirement already satisfied: tensorboard-data-server<0.7.0,>=0.6.0 in /usr/local/lib/python3.8/dist-packages (from tensorboard->keras_tuner) (0.6.1)\n",
      "Requirement already satisfied: pyasn1-modules>=0.2.1 in /usr/local/lib/python3.8/dist-packages (from google-auth<3,>=1.6.3->tensorboard->keras_tuner) (0.2.8)\n",
      "Requirement already satisfied: cachetools<6.0,>=2.0.0 in /usr/local/lib/python3.8/dist-packages (from google-auth<3,>=1.6.3->tensorboard->keras_tuner) (5.2.0)\n",
      "Requirement already satisfied: rsa<5,>=3.1.4 in /usr/local/lib/python3.8/dist-packages (from google-auth<3,>=1.6.3->tensorboard->keras_tuner) (4.9)\n",
      "Requirement already satisfied: requests-oauthlib>=0.7.0 in /usr/local/lib/python3.8/dist-packages (from google-auth-oauthlib<0.5,>=0.4.1->tensorboard->keras_tuner) (1.3.1)\n",
      "Requirement already satisfied: importlib-metadata>=4.4 in /usr/local/lib/python3.8/dist-packages (from markdown>=2.6.8->tensorboard->keras_tuner) (4.13.0)\n",
      "Requirement already satisfied: zipp>=0.5 in /usr/local/lib/python3.8/dist-packages (from importlib-metadata>=4.4->markdown>=2.6.8->tensorboard->keras_tuner) (3.11.0)\n",
      "Requirement already satisfied: pyasn1<0.5.0,>=0.4.6 in /usr/local/lib/python3.8/dist-packages (from pyasn1-modules>=0.2.1->google-auth<3,>=1.6.3->tensorboard->keras_tuner) (0.4.8)\n",
      "Requirement already satisfied: oauthlib>=3.0.0 in /usr/local/lib/python3.8/dist-packages (from requests-oauthlib>=0.7.0->google-auth-oauthlib<0.5,>=0.4.1->tensorboard->keras_tuner) (3.2.2)\n",
      "Looking in indexes: https://pypi.org/simple, https://us-python.pkg.dev/colab-wheels/public/simple/\n",
      "Requirement already satisfied: matplotlib==3.1.3 in /usr/local/lib/python3.8/dist-packages (3.1.3)\n",
      "Requirement already satisfied: kiwisolver>=1.0.1 in /usr/local/lib/python3.8/dist-packages (from matplotlib==3.1.3) (1.4.4)\n",
      "Requirement already satisfied: python-dateutil>=2.1 in /usr/local/lib/python3.8/dist-packages (from matplotlib==3.1.3) (2.8.2)\n",
      "Requirement already satisfied: cycler>=0.10 in /usr/local/lib/python3.8/dist-packages (from matplotlib==3.1.3) (0.11.0)\n",
      "Requirement already satisfied: pyparsing!=2.0.4,!=2.1.2,!=2.1.6,>=2.0.1 in /usr/local/lib/python3.8/dist-packages (from matplotlib==3.1.3) (3.0.9)\n",
      "Requirement already satisfied: numpy>=1.11 in /usr/local/lib/python3.8/dist-packages (from matplotlib==3.1.3) (1.21.0)\n",
      "Requirement already satisfied: six>=1.5 in /usr/local/lib/python3.8/dist-packages (from python-dateutil>=2.1->matplotlib==3.1.3) (1.15.0)\n"
     ]
    }
   ],
   "source": [
    "!pip install numpy==1.21\n",
    "!pip install dtreeviz\n",
    "!pip install kneed\n",
    "!pip install pyreadstat\n",
    "!pip install visualkeras\n",
    "!pip install keras_tuner\n",
    "!pip install matplotlib==3.1.3"
   ]
  },
  {
   "cell_type": "code",
   "execution_count": 4,
   "metadata": {
    "id": "0B1RX08ZbwKN"
   },
   "outputs": [],
   "source": [
    "import pandas as pd\n",
    "import numpy as np\n",
    "import csv\n",
    "import statistics\n",
    "from math import inf\n",
    "import random\n",
    "\n",
    "\n",
    "#Visualización\n",
    "import matplotlib.pyplot as plt\n",
    "from seaborn import color_palette\n",
    "import seaborn as sns\n",
    "\n",
    "#modelos y métricas\n",
    "from sklearn import metrics\n",
    "from sklearn.model_selection import train_test_split,RandomizedSearchCV, GridSearchCV, cross_val_score\n",
    "from sklearn.metrics import confusion_matrix, precision_recall_curve, roc_curve, recall_score, accuracy_score,f1_score, precision_score, auc, roc_auc_score, mean_squared_error, silhouette_score, classification_report,mean_absolute_error, max_error, median_absolute_error, r2_score, explained_variance_score\n",
    "\n",
    "\n",
    "#preprocesamiento\n",
    "from sklearn.preprocessing import MinMaxScaler, StandardScaler\n",
    "\n",
    "# Pickle\n",
    "import pickle\n",
    "import pyreadstat\n",
    "\n",
    "# Redes Neuronales\n",
    "import tensorflow as tf\n",
    "from tensorflow import keras\n",
    "from keras.utils.vis_utils import plot_model\n",
    "import visualkeras\n",
    "import keras_tuner as kt\n",
    "\n",
    "#configuración warnings\n",
    "import warnings\n",
    "warnings.simplefilter(action='ignore', category=FutureWarning)\n",
    "warnings.simplefilter(action='ignore', category=UserWarning)"
   ]
  },
  {
   "cell_type": "markdown",
   "metadata": {
    "id": "dXQ0m34G0QEq"
   },
   "source": [
    "# Redes Neuronales"
   ]
  },
  {
   "cell_type": "markdown",
   "metadata": {
    "id": "LkS_OciCnAUG"
   },
   "source": [
    "Creamos los datasets."
   ]
  },
  {
   "cell_type": "code",
   "execution_count": 5,
   "metadata": {
    "id": "VssL2VPljBVe"
   },
   "outputs": [],
   "source": [
    "url = 'https://drive.google.com/file/d/1ziV8Kmuw_Vtv7aX1zGnfMdoLMd0nfoOr/view?usp=share_link'\n",
    "path = 'https://drive.google.com/uc?export=download&id='+url.split('/')[-2]\n",
    "\n",
    "ds_train = pd.read_csv(path)\n",
    "\n",
    "url = 'https://drive.google.com/file/d/1j34_hlvFOJV_8TN2jdnV2GXSArfWlUUK/view?usp=share_link'\n",
    "path = 'https://drive.google.com/uc?export=download&id='+url.split('/')[-2]\n",
    "\n",
    "ds_test = pd.read_csv(path)"
   ]
  },
  {
   "cell_type": "code",
   "execution_count": 6,
   "metadata": {
    "id": "leRbkwUlzn5f"
   },
   "outputs": [],
   "source": [
    "de_temp_train = ds_train.copy()\n",
    "\n",
    "de_temp_train.loc[ds_train[\"tipo_precio\"]==\"bajo\", \"target\"]= 0\n",
    "de_temp_train.loc[ds_train[\"tipo_precio\"]==\"medio\", \"target\"]= 1\n",
    "de_temp_train.loc[ds_train[\"tipo_precio\"]==\"alto\", \"target\"]= 2"
   ]
  },
  {
   "cell_type": "markdown",
   "metadata": {
    "id": "P4v6cBWoy0-U"
   },
   "source": [
    "Asignamos valores numéricos a los tipos de precio para trabajar con ellos."
   ]
  },
  {
   "cell_type": "code",
   "execution_count": 7,
   "metadata": {
    "id": "mgbu2CRLG9QO"
   },
   "outputs": [],
   "source": [
    "de_temp_test = ds_test.copy()\n",
    "\n",
    "de_temp_test.loc[ds_test[\"tipo_precio\"]==\"bajo\", \"target\"]= 0\n",
    "de_temp_test.loc[ds_test[\"tipo_precio\"]==\"medio\", \"target\"]= 1\n",
    "de_temp_test.loc[ds_test[\"tipo_precio\"]==\"alto\", \"target\"]= 2"
   ]
  },
  {
   "cell_type": "code",
   "execution_count": 8,
   "metadata": {
    "id": "P0HvlOgrmwRs"
   },
   "outputs": [],
   "source": [
    "ds_train_x = de_temp_train.drop(['id', 'tipo_precio', 'property_price', 'target'], axis='columns', inplace=False)\n",
    "ds_test_x = de_temp_test.drop(['id', 'tipo_precio', 'property_price', 'target'], axis='columns', inplace=False)"
   ]
  },
  {
   "cell_type": "code",
   "execution_count": 9,
   "metadata": {
    "id": "MTmxn9_uLJTv"
   },
   "outputs": [],
   "source": [
    "ds_train_rn_x = pd.get_dummies(ds_train_x, columns=[\"barrio\",\"property_type\"], drop_first=True)\n",
    "ds_test_rn_x = pd.get_dummies(ds_test_x, columns=[\"barrio\",\"property_type\"], drop_first=True)"
   ]
  },
  {
   "cell_type": "markdown",
   "metadata": {
    "id": "JMxW_AYL08gO"
   },
   "source": [
    "## Regresion"
   ]
  },
  {
   "cell_type": "code",
   "execution_count": 10,
   "metadata": {
    "id": "_QaoYyhzGh78"
   },
   "outputs": [],
   "source": [
    "ds_train_rn_y = de_temp_train['property_price'].copy()\n",
    "ds_test_rn_y = de_temp_test['property_price'].copy()"
   ]
  },
  {
   "cell_type": "code",
   "execution_count": 11,
   "metadata": {
    "id": "rxefJA-yHbGt"
   },
   "outputs": [],
   "source": [
    "columnas_predictoras=ds_train_rn_x.columns.to_list()\n",
    "\n",
    "d_in=len(columnas_predictoras)"
   ]
  },
  {
   "cell_type": "markdown",
   "metadata": {
    "id": "ITPK_R8QzNNZ"
   },
   "source": [
    "Estandarizamos y escalamos los datos."
   ]
  },
  {
   "cell_type": "code",
   "execution_count": 12,
   "metadata": {
    "colab": {
     "base_uri": "https://localhost:8080/"
    },
    "id": "QwKTnwlGIU5g",
    "outputId": "bbe78c19-f7cb-48a4-93d6-6bd749f5a3d4"
   },
   "outputs": [
    {
     "data": {
      "text/plain": [
       "StandardScaler()"
      ]
     },
     "execution_count": 12,
     "metadata": {},
     "output_type": "execute_result"
    }
   ],
   "source": [
    "sscaler=StandardScaler()\n",
    "sscaler.fit(pd.DataFrame(ds_train_rn_x))"
   ]
  },
  {
   "cell_type": "code",
   "execution_count": 13,
   "metadata": {
    "id": "vG44ctxVIZ-w"
   },
   "outputs": [],
   "source": [
    "x_train_transform=sscaler.transform(pd.DataFrame(ds_train_rn_x))\n",
    "x_test_transform=sscaler.transform(pd.DataFrame(ds_test_rn_x))"
   ]
  },
  {
   "cell_type": "markdown",
   "metadata": {
    "id": "W3uoaAqaIrP3"
   },
   "source": [
    "#### Modelo de una capa\n"
   ]
  },
  {
   "cell_type": "markdown",
   "metadata": {
    "id": "2PvbNxfYz-h5"
   },
   "source": [
    "Entrenamos un modelo usando keras de una capa para regresión."
   ]
  },
  {
   "cell_type": "code",
   "execution_count": 14,
   "metadata": {
    "id": "tyqkqq-iIt4d"
   },
   "outputs": [],
   "source": [
    "rn = keras.Sequential([keras.layers.Dense(1,input_shape=(d_in,))])"
   ]
  },
  {
   "cell_type": "code",
   "execution_count": 15,
   "metadata": {
    "colab": {
     "base_uri": "https://localhost:8080/"
    },
    "id": "1UraRFS7I1tM",
    "outputId": "be00233b-d29b-4fd0-b303-4b704bdcda84"
   },
   "outputs": [
    {
     "name": "stdout",
     "output_type": "stream",
     "text": [
      "Model: \"sequential\"\n",
      "_________________________________________________________________\n",
      " Layer (type)                Output Shape              Param #   \n",
      "=================================================================\n",
      " dense (Dense)               (None, 1)                 79        \n",
      "                                                                 \n",
      "=================================================================\n",
      "Total params: 79\n",
      "Trainable params: 79\n",
      "Non-trainable params: 0\n",
      "_________________________________________________________________\n"
     ]
    }
   ],
   "source": [
    "rn.summary()"
   ]
  },
  {
   "cell_type": "code",
   "execution_count": 16,
   "metadata": {
    "id": "J1dxMwBBI3-T"
   },
   "outputs": [],
   "source": [
    "rn.compile(\n",
    "  optimizer=keras.optimizers.Adam(lr=0.001, beta_1=0.9, beta_2=0.999),\n",
    "  loss='mse', \n",
    "  metrics=['mae'], \n",
    ")"
   ]
  },
  {
   "cell_type": "code",
   "execution_count": 17,
   "metadata": {
    "colab": {
     "base_uri": "https://localhost:8080/"
    },
    "id": "RSRq-i6UI_Wl",
    "outputId": "2a2999a5-2c78-4f93-de27-de9ef1aa214e"
   },
   "outputs": [
    {
     "data": {
      "text/plain": [
       "<keras.callbacks.History at 0x7ffae4946ee0>"
      ]
     },
     "execution_count": 17,
     "metadata": {},
     "output_type": "execute_result"
    }
   ],
   "source": [
    "rn.fit(x_train_transform,ds_train_rn_y,epochs=10,batch_size=16,verbose=False)"
   ]
  },
  {
   "cell_type": "code",
   "execution_count": 18,
   "metadata": {
    "colab": {
     "base_uri": "https://localhost:8080/"
    },
    "id": "tTk6WkV3UHRX",
    "outputId": "e5b46bd3-7568-48ef-98dc-5c8e63ac8922"
   },
   "outputs": [
    {
     "name": "stdout",
     "output_type": "stream",
     "text": [
      "500/500 [==============================] - 1s 1ms/step\n"
     ]
    }
   ],
   "source": [
    "pred = rn.predict(x_test_transform)"
   ]
  },
  {
   "cell_type": "code",
   "execution_count": 19,
   "metadata": {
    "colab": {
     "base_uri": "https://localhost:8080/"
    },
    "id": "pRukCFGBJXvl",
    "outputId": "ec39c9de-d401-416e-ec88-be8d854bfc8a"
   },
   "outputs": [
    {
     "name": "stdout",
     "output_type": "stream",
     "text": [
      "Error absoluto medio 216483.477021418\n",
      "Error cuadrático medio 127312474563.47418\n"
     ]
    }
   ],
   "source": [
    "mae=mean_absolute_error(ds_test_rn_y,pred)\n",
    "mse=mean_squared_error(ds_test_rn_y,pred)\n",
    "\n",
    "print(f\"Error absoluto medio {mae}\")\n",
    "print(f\"Error cuadrático medio {mse}\")"
   ]
  },
  {
   "cell_type": "code",
   "execution_count": 22,
   "metadata": {
    "id": "B0PT1Q93b2yf"
   },
   "outputs": [],
   "source": [
    "# Guardamos el modelo\n",
    "import pickle\n",
    "\n",
    "filename = 'rn_reg.sav'\n",
    "pickle.dump(rn, open(filename, 'wb'))"
   ]
  },
  {
   "cell_type": "markdown",
   "metadata": {
    "id": "nqwRtvqfJfZ6"
   },
   "source": [
    "#### Modelo multicapa"
   ]
  },
  {
   "cell_type": "markdown",
   "metadata": {
    "id": "z2GgU5z10MxX"
   },
   "source": [
    "Entrenamos keras secuencial de varias capas para regresión."
   ]
  },
  {
   "cell_type": "code",
   "execution_count": 23,
   "metadata": {
    "id": "FQ9fha7ZJeZA"
   },
   "outputs": [],
   "source": [
    "d_out=1\n",
    "\n",
    "rn = keras.Sequential([\n",
    "    keras.layers.Dense(3,input_shape=(d_in,), activation=\"relu\"),\n",
    "    keras.layers.Dense(6, activation=\"tanh\" ),\n",
    "    keras.layers.Dense(d_out, \"sigmoid\")])"
   ]
  },
  {
   "cell_type": "code",
   "execution_count": 24,
   "metadata": {
    "colab": {
     "base_uri": "https://localhost:8080/"
    },
    "id": "JE5vkB9NJmop",
    "outputId": "58a412f5-75bb-4ac3-e13a-f58e417eda67"
   },
   "outputs": [
    {
     "name": "stdout",
     "output_type": "stream",
     "text": [
      "Model: \"sequential_1\"\n",
      "_________________________________________________________________\n",
      " Layer (type)                Output Shape              Param #   \n",
      "=================================================================\n",
      " dense_1 (Dense)             (None, 3)                 237       \n",
      "                                                                 \n",
      " dense_2 (Dense)             (None, 6)                 24        \n",
      "                                                                 \n",
      " dense_3 (Dense)             (None, 1)                 7         \n",
      "                                                                 \n",
      "=================================================================\n",
      "Total params: 268\n",
      "Trainable params: 268\n",
      "Non-trainable params: 0\n",
      "_________________________________________________________________\n"
     ]
    }
   ],
   "source": [
    "rn.summary()"
   ]
  },
  {
   "cell_type": "code",
   "execution_count": 25,
   "metadata": {
    "id": "jVR64F4CJonQ"
   },
   "outputs": [],
   "source": [
    "rn.compile(\n",
    "  optimizer=keras.optimizers.Adam(lr=0.001, beta_1=0.9, beta_2=0.999),\n",
    "  loss='mse', \n",
    "  metrics=['mae'], \n",
    ")"
   ]
  },
  {
   "cell_type": "code",
   "execution_count": 26,
   "metadata": {
    "colab": {
     "base_uri": "https://localhost:8080/"
    },
    "id": "v4LDz4J7Jq06",
    "outputId": "ea0efe86-f1be-4d20-96e3-46f164f4f1b6"
   },
   "outputs": [
    {
     "data": {
      "text/plain": [
       "<keras.callbacks.History at 0x7ffae475f670>"
      ]
     },
     "execution_count": 26,
     "metadata": {},
     "output_type": "execute_result"
    }
   ],
   "source": [
    "rn.fit(x_train_transform,ds_train_rn_y,epochs=10,batch_size=16,verbose=False)"
   ]
  },
  {
   "cell_type": "code",
   "execution_count": 27,
   "metadata": {
    "colab": {
     "base_uri": "https://localhost:8080/"
    },
    "id": "fah1dZ8TKMlm",
    "outputId": "b9d4a96f-3e7c-434c-8e86-e7992e16f9b8"
   },
   "outputs": [
    {
     "name": "stdout",
     "output_type": "stream",
     "text": [
      "500/500 [==============================] - 1s 1ms/step\n",
      "Error absoluto medio 216511.92879024698\n",
      "Error cuadrático medio 127358774601.02214\n"
     ]
    }
   ],
   "source": [
    "y_pred=rn.predict(x_test_transform)\n",
    "\n",
    "mae=mean_absolute_error(ds_test_rn_y,y_pred)\n",
    "mse=mean_squared_error(ds_test_rn_y,y_pred)\n",
    "\n",
    "print(f\"Error absoluto medio {mae}\")\n",
    "print(f\"Error cuadrático medio {mse}\")"
   ]
  },
  {
   "cell_type": "markdown",
   "metadata": {
    "id": "zUinNPu33_Ld"
   },
   "source": [
    "Se puede observar que aumentando la cantidad de capas de la red no se obtiene una mejora, por el contrario, el error aumenta. Por lo tanto, en este caso nos podemos quedar con un modelo de una única capa"
   ]
  },
  {
   "cell_type": "code",
   "execution_count": 30,
   "metadata": {
    "id": "_kWg8ah6cEoM"
   },
   "outputs": [],
   "source": [
    "# Guardamos el modelo\n",
    "filename = 'rn_multi_reg.sav'\n",
    "pickle.dump(rn, open(filename, 'wb'))"
   ]
  },
  {
   "cell_type": "markdown",
   "metadata": {
    "id": "FynjjPjB06Bi"
   },
   "source": [
    "## Clasificacion\n"
   ]
  },
  {
   "cell_type": "code",
   "execution_count": 31,
   "metadata": {
    "id": "igbFP3hQ0YVo"
   },
   "outputs": [],
   "source": [
    "ds_train_rn_y = de_temp_train['target'].copy()\n",
    "ds_test_rn_y = de_temp_test['target'].copy()"
   ]
  },
  {
   "cell_type": "markdown",
   "metadata": {
    "id": "jb6tPNVDaY-K"
   },
   "source": [
    "Hacemos una busqueda de hiperparametros"
   ]
  },
  {
   "cell_type": "code",
   "execution_count": 32,
   "metadata": {
    "colab": {
     "base_uri": "https://localhost:8080/"
    },
    "id": "eAoRXVHNOU5b",
    "outputId": "a24f806c-8970-493f-adaa-a8585d8b69ac"
   },
   "outputs": [
    {
     "name": "stdout",
     "output_type": "stream",
     "text": [
      "Probando con: 1 salidas, relu, sigmoid, relu, 147 epochs, 165 batch_size\n",
      "500/500 [==============================] - 1s 1ms/step\n",
      "Metricas obtenidas:\n",
      "mse:0.6670012104920617\n",
      "\n",
      "Probando con: 3 salidas, softmax, tanh, relu, 53 epochs, 149 batch_size\n",
      "500/500 [==============================] - 1s 1ms/step\n",
      "Metricas obtenidas:\n",
      "mse:0.6669583781684852\n",
      "\n",
      "Probando con: 3 salidas, relu, softmax, sigmoid, 125 epochs, 76 batch_size\n",
      "500/500 [==============================] - 1s 2ms/step\n",
      "Metricas obtenidas:\n",
      "mse:0.5284800284175839\n",
      "\n",
      "Probando con: 2 salidas, relu, relu, relu, 98 epochs, 105 batch_size\n",
      "500/500 [==============================] - 1s 1ms/step\n",
      "Metricas obtenidas:\n",
      "mse:0.42645220278499735\n",
      "\n",
      "Probando con: 3 salidas, relu, tanh, softmax, 120 epochs, 109 batch_size\n",
      "500/500 [==============================] - 1s 1ms/step\n",
      "Metricas obtenidas:\n",
      "mse:0.6669584244778505\n",
      "\n",
      "0.42645220278499735\n",
      "{'func_activacion_1': 'relu', 'func_activacion_2': 'relu', 'func_activacion_3': 'relu', 'epochs': 98, 'batch_size': 105, 'cant_salidas': 2}\n"
     ]
    }
   ],
   "source": [
    "random.seed(1)\n",
    "activations = ['relu', 'tanh', 'sigmoid', 'softmax']\n",
    "\n",
    "mejores_hyperparametros = {\n",
    "    'func_activacion_1': '',\n",
    "    'func_activacion_2': '',\n",
    "    'func_activacion_3': '',\n",
    "    'epochs': 0,\n",
    "    'batch_size': 0,\n",
    "}\n",
    "\n",
    "mejores_metricas = inf\n",
    "\n",
    "for i in range(0,5):\n",
    "\n",
    "  cant_salidas = random.randint(0,3)\n",
    "  func_activacion_1 = activations[random.randint(0,3)]\n",
    "  func_activacion_2 = activations[random.randint(0,3)]\n",
    "  func_activacion_3 = activations[random.randint(0,3)]\n",
    "  modelo = keras.Sequential([\n",
    "      # input_shape solo en la primer capa\n",
    "      keras.layers.Dense(1, input_shape=(d_in,), activation=activations[random.randint(0,3)]),\n",
    "\n",
    "      keras.layers.Dense(cant_salidas, activation=func_activacion_1),\n",
    "      keras.layers.Dense(cant_salidas, activation=func_activacion_2),\n",
    "\n",
    "      keras.layers.Dense(1, activation=func_activacion_3),\n",
    "     ])\n",
    "\n",
    "  # Compilamos el modelo\n",
    "  modelo.compile(\n",
    "  optimizer=keras.optimizers.Adam(lr=0.001, beta_1=0.9, beta_2=0.999), \n",
    "  loss='mse', \n",
    "  metrics=['mae'], \n",
    "  )\n",
    "  \n",
    "  # Entrenamiento del modelo\n",
    "  epochs = random.randint(50,150)\n",
    "  batch_size = random.randint(50,200)\n",
    "\n",
    "  print(f\"Probando con: {cant_salidas} salidas, {func_activacion_1}, {func_activacion_2}, {func_activacion_3}, {epochs} epochs, {batch_size} batch_size\")\n",
    "  history = modelo.fit(x_train_transform, ds_train_rn_y,epochs=epochs,batch_size=batch_size,verbose=False)\n",
    "\n",
    "  y_pred = modelo.predict(x_test_transform)\n",
    "\n",
    "  y_pred = y_pred.flatten()\n",
    "  mse = metrics.mean_squared_error(\n",
    "        y_true  = ds_test_rn_y,\n",
    "        y_pred  = y_pred,\n",
    "        squared = True\n",
    "        )\n",
    "      \n",
    "  print(\"Metricas obtenidas:\")\n",
    "  print(f\"mse:{mse}\")\n",
    "  print()\n",
    "\n",
    "  if mse < mejores_metricas:\n",
    "    mejores_metricas = mse\n",
    "\n",
    "    mejores_hyperparametros['cant_salidas'] = cant_salidas\n",
    "    mejores_hyperparametros['func_activacion_1'] = func_activacion_1\n",
    "    mejores_hyperparametros['func_activacion_2'] = func_activacion_2\n",
    "    mejores_hyperparametros['func_activacion_3'] = func_activacion_3\n",
    "    mejores_hyperparametros['epochs'] = epochs\n",
    "    mejores_hyperparametros['batch_size'] = batch_size\n",
    "  \n",
    "\n",
    "print(mejores_metricas)\n",
    "print(mejores_hyperparametros)\n"
   ]
  },
  {
   "cell_type": "code",
   "execution_count": 33,
   "metadata": {
    "id": "A_3Vh7lw-8Il"
   },
   "outputs": [],
   "source": [
    "columnas_predictoras=ds_train_rn_x.columns.to_list()\n",
    "\n",
    "d_in=len(columnas_predictoras)"
   ]
  },
  {
   "cell_type": "code",
   "execution_count": 34,
   "metadata": {
    "colab": {
     "base_uri": "https://localhost:8080/"
    },
    "id": "nfkbJRZAYJXy",
    "outputId": "443134ea-425f-496f-fe3d-dd68810087dc"
   },
   "outputs": [
    {
     "data": {
      "text/plain": [
       "StandardScaler()"
      ]
     },
     "execution_count": 34,
     "metadata": {},
     "output_type": "execute_result"
    }
   ],
   "source": [
    "sscaler=StandardScaler()\n",
    "sscaler.fit(pd.DataFrame(ds_train_rn_x))"
   ]
  },
  {
   "cell_type": "code",
   "execution_count": 35,
   "metadata": {
    "id": "NOq5nq6UiKLW"
   },
   "outputs": [],
   "source": [
    "x_train_transform=sscaler.transform(pd.DataFrame(ds_train_rn_x))\n",
    "x_test_transform=sscaler.transform(pd.DataFrame(ds_test_rn_x))"
   ]
  },
  {
   "cell_type": "code",
   "execution_count": 36,
   "metadata": {
    "colab": {
     "base_uri": "https://localhost:8080/"
    },
    "id": "gbnqcYmJ-c0P",
    "outputId": "9833317f-63b0-4693-def4-521b492a574d"
   },
   "outputs": [
    {
     "name": "stdout",
     "output_type": "stream",
     "text": [
      "Model: \"sequential_7\"\n",
      "_________________________________________________________________\n",
      " Layer (type)                Output Shape              Param #   \n",
      "=================================================================\n",
      " dense_24 (Dense)            (None, 3)                 237       \n",
      "                                                                 \n",
      " dense_25 (Dense)            (None, 7)                 28        \n",
      "                                                                 \n",
      " dense_26 (Dense)            (None, 3)                 24        \n",
      "                                                                 \n",
      "=================================================================\n",
      "Total params: 289\n",
      "Trainable params: 289\n",
      "Non-trainable params: 0\n",
      "_________________________________________________________________\n"
     ]
    }
   ],
   "source": [
    "# calcula la cantidad de clases\n",
    "classes=int(de_temp_train.loc[:,'target'].max()+1)\n",
    "\n",
    "modelo = keras.Sequential([\n",
    "    keras.layers.Dense(3,input_shape=(d_in,), activation='relu'),\n",
    "    keras.layers.Dense(7, activation='softmax'),\n",
    "    keras.layers.Dense(classes, activation='sigmoid')])\n",
    "\n",
    "modelo.summary()"
   ]
  },
  {
   "cell_type": "code",
   "execution_count": 37,
   "metadata": {
    "id": "jFDev4jv_w-s"
   },
   "outputs": [],
   "source": [
    "modelo.compile(\n",
    "  optimizer=keras.optimizers.Adam(lr=0.001, beta_1=0.9, beta_2=0.999),\n",
    "  loss='sparse_categorical_crossentropy', \n",
    "  metrics=['accuracy'], \n",
    ")\n",
    "\n",
    "cant_epochs=125\n",
    "\n",
    "historia = modelo.fit(x_train_transform,ds_train_rn_y,epochs=cant_epochs,batch_size=76,verbose=False)"
   ]
  },
  {
   "cell_type": "code",
   "execution_count": 38,
   "metadata": {
    "colab": {
     "base_uri": "https://localhost:8080/"
    },
    "id": "81zrbjjBAPZp",
    "outputId": "dca858ec-5c7a-4dfa-80f6-3cbc49e29ba9"
   },
   "outputs": [
    {
     "name": "stdout",
     "output_type": "stream",
     "text": [
      "500/500 [==============================] - 1s 1ms/step\n"
     ]
    }
   ],
   "source": [
    "y_pred = modelo.predict(x_test_transform)\n",
    "\n",
    "y_pred = np.argmax(y_pred,axis = 1)"
   ]
  },
  {
   "cell_type": "code",
   "execution_count": 39,
   "metadata": {
    "colab": {
     "base_uri": "https://localhost:8080/",
     "height": 487
    },
    "id": "8I-_p4DbbiAx",
    "outputId": "75a38bae-7266-4132-d8a7-9d7543e7dfa6"
   },
   "outputs": [
    {
     "name": "stdout",
     "output_type": "stream",
     "text": [
      "              precision    recall  f1-score   support\n",
      "\n",
      "         0.0       0.65      0.71      0.68      5336\n",
      "         1.0       0.47      0.47      0.47      5327\n",
      "         2.0       0.71      0.64      0.68      5332\n",
      "\n",
      "    accuracy                           0.61     15995\n",
      "   macro avg       0.61      0.61      0.61     15995\n",
      "weighted avg       0.61      0.61      0.61     15995\n",
      "\n",
      "Accuracy: 0.608127539856205\n",
      " \n"
     ]
    },
    {
     "data": {
      "image/png": "[encoded data removed]",
      "text/plain": [
       "<Figure size 432x288 with 2 Axes>"
      ]
     },
     "metadata": {
      "needs_background": "light"
     },
     "output_type": "display_data"
    }
   ],
   "source": [
    "#Calculo las métricas en el conjunto de evaluación\n",
    "accuracy=accuracy_score(ds_test_rn_y,y_pred)\n",
    "\n",
    "print(classification_report(ds_test_rn_y,y_pred))\n",
    "print(\"Accuracy: \"+str(accuracy))\n",
    "print(\" \")\n",
    "\n",
    "#Creo la matriz de confusión\n",
    "tabla=confusion_matrix(ds_test_rn_y, y_pred)\n",
    "\n",
    "#Grafico la matriz de confusión\n",
    "sns.heatmap(tabla,cmap='GnBu',annot=True,fmt='g')\n",
    "plt.xlabel('Predicted')\n",
    "plt.ylabel('True')\n",
    "plt.show()"
   ]
  },
  {
   "cell_type": "code",
   "execution_count": 41,
   "metadata": {
    "id": "EGR8m3kWcSGq"
   },
   "outputs": [],
   "source": [
    "# Guardamos el modelo\n",
    "filename = 'rn_multi_clf.sav'\n",
    "pickle.dump(modelo, open(filename, 'wb'))"
   ]
  },
  {
   "cell_type": "markdown",
   "metadata": {
    "id": "vERMErj23wNz"
   },
   "source": [
    "Por los resultados de la matriz de confusión podemos inferir que nuestro modelo roza el underfitting ya que no se ajusta a los datos de entrenamiento y por eso apenas puede predecir bien la mitad de los datos de testing."
   ]
  },
  {
   "cell_type": "markdown",
   "metadata": {
    "id": "8QbDoTe85NEG"
   },
   "source": [
    "## Conclusiones"
   ]
  },
  {
   "cell_type": "markdown",
   "metadata": {
    "id": "3pGlQTaS5Rla"
   },
   "source": [
    "Sabemos que las redes neuronales pueden ser una herramienta muy valiosa al momento de entrenar un modelo y predecir datos, aunque en nuestro caso los resultados no fueron muy buenos. Al igual que con el primer trabajo practico nos inclinamos a pensar que la causa del mal desempeño es debido a nuestro set de datos que no es del todo bueno. \n",
    "Aun haciendo una busqueda de hiperparametros los resultados de la combinacion optima no son muy buenos.\n",
    "\n"
   ]
  }
 ],
 "metadata": {
  "colab": {
   "provenance": []
  },
  "kernelspec": {
   "display_name": "Python 3 (ipykernel)",
   "language": "python",
   "name": "python3"
  },
  "language_info": {
   "codemirror_mode": {
    "name": "ipython",
    "version": 3
   },
   "file_extension": ".py",
   "mimetype": "text/x-python",
   "name": "python",
   "nbconvert_exporter": "python",
   "pygments_lexer": "ipython3",
   "version": "3.10.8"
  }
 },
 "nbformat": 4,
 "nbformat_minor": 1
}
