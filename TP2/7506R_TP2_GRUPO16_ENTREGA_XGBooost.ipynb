{
 "cells": [
  {
   "cell_type": "code",
   "execution_count": 1,
   "metadata": {
    "colab": {
     "base_uri": "https://localhost:8080/"
    },
    "id": "6i0hHhk9AL5z",
    "outputId": "f66c3e73-f3ae-4e52-cfb9-ff42cf863599"
   },
   "outputs": [
    {
     "name": "stdout",
     "output_type": "stream",
     "text": [
      "Looking in indexes: https://pypi.org/simple, https://us-python.pkg.dev/colab-wheels/public/simple/\n",
      "Collecting xgboost==1.6.2\n",
      "  Downloading xgboost-1.6.2-py3-none-manylinux2014_x86_64.whl (255.9 MB)\n",
      "\u001b[K     |████████████████████████████████| 255.9 MB 27 kB/s \n",
      "\u001b[?25hRequirement already satisfied: numpy in /usr/local/lib/python3.8/dist-packages (from xgboost==1.6.2) (1.21.6)\n",
      "Requirement already satisfied: scipy in /usr/local/lib/python3.8/dist-packages (from xgboost==1.6.2) (1.7.3)\n",
      "Installing collected packages: xgboost\n",
      "  Attempting uninstall: xgboost\n",
      "    Found existing installation: xgboost 0.90\n",
      "    Uninstalling xgboost-0.90:\n",
      "      Successfully uninstalled xgboost-0.90\n",
      "Successfully installed xgboost-1.6.2\n"
     ]
    }
   ],
   "source": [
    "!pip install xgboost==1.6.2\n",
    "import pandas as pd\n",
    "import numpy as np\n",
    "import statistics\n",
    "import xgboost as xgb\n",
    "from sklearn.model_selection import RandomizedSearchCV, GridSearchCV, cross_val_score\n",
    "from sklearn.model_selection import GridSearchCV\n",
    "from sklearn.metrics import confusion_matrix, precision_recall_curve, roc_curve, recall_score, accuracy_score,f1_score, precision_score, auc, roc_auc_score, mean_squared_error, silhouette_score, classification_report,plot_roc_curve,mean_absolute_error, max_error, median_absolute_error, r2_score, explained_variance_score"
   ]
  },
  {
   "cell_type": "code",
   "execution_count": 2,
   "metadata": {
    "id": "WVA0drmJNDh_"
   },
   "outputs": [],
   "source": [
    "url = 'https://drive.google.com/file/d/1Sh8wEwQNuAqXGkKEYwAWm97I0r6rAm64/view?usp=share_link'\n",
    "path = 'https://drive.google.com/uc?export=download&id='+url.split('/')[-2]\n",
    "\n",
    "ds_train = pd.read_csv(path)\n",
    "\n",
    "url = 'https://drive.google.com/file/d/1Zrzwx7Aw9Ws9ohvbZOkl7lesL4Klzb67/view?usp=share_link'\n",
    "path = 'https://drive.google.com/uc?export=download&id='+url.split('/')[-2]\n",
    "\n",
    "ds_test = pd.read_csv(path)"
   ]
  },
  {
   "cell_type": "code",
   "execution_count": 3,
   "metadata": {
    "id": "leRbkwUlzn5f"
   },
   "outputs": [],
   "source": [
    "de_temp_train = ds_train.copy()\n",
    "\n",
    "de_temp_train.loc[ds_train[\"tipo_precio\"]==\"bajo\", \"target\"]= 0\n",
    "de_temp_train.loc[ds_train[\"tipo_precio\"]==\"medio\", \"target\"]= 1\n",
    "de_temp_train.loc[ds_train[\"tipo_precio\"]==\"alto\", \"target\"]= 2"
   ]
  },
  {
   "cell_type": "code",
   "execution_count": 4,
   "metadata": {
    "id": "mgbu2CRLG9QO"
   },
   "outputs": [],
   "source": [
    "de_temp_test = ds_test.copy()\n",
    "\n",
    "de_temp_test.loc[ds_test[\"tipo_precio\"]==\"bajo\", \"target\"]= 0\n",
    "de_temp_test.loc[ds_test[\"tipo_precio\"]==\"medio\", \"target\"]= 1\n",
    "de_temp_test.loc[ds_test[\"tipo_precio\"]==\"alto\", \"target\"]= 2"
   ]
  },
  {
   "cell_type": "code",
   "execution_count": 5,
   "metadata": {
    "id": "P0HvlOgrmwRs"
   },
   "outputs": [],
   "source": [
    "ds_train_x = de_temp_train.drop(['id', 'tipo_precio', 'property_price', 'target'], axis='columns', inplace=False)\n",
    "ds_test_x = de_temp_test.drop(['id', 'tipo_precio', 'property_price', 'target'], axis='columns', inplace=False)\n"
   ]
  },
  {
   "cell_type": "code",
   "execution_count": 6,
   "metadata": {
    "id": "MTmxn9_uLJTv"
   },
   "outputs": [],
   "source": [
    "ds_train_x = pd.get_dummies(ds_train_x, columns=[\"barrio\",\"property_type\"], drop_first=True)\n",
    "ds_test_x = pd.get_dummies(ds_test_x, columns=[\"barrio\",\"property_type\"], drop_first=True)"
   ]
  },
  {
   "cell_type": "code",
   "execution_count": 7,
   "metadata": {
    "id": "79QPM0krJwhE"
   },
   "outputs": [],
   "source": [
    "ds_train_y = de_temp_train['property_price'].copy()\n",
    "ds_test_y = de_temp_test['property_price'].copy()"
   ]
  },
  {
   "cell_type": "code",
   "execution_count": 8,
   "metadata": {
    "id": "O23zHXThI8gQ"
   },
   "outputs": [],
   "source": [
    "def report_regression(model, x_train, y_train, x_test, y_test):\n",
    "    # Get a prediction over x_test\n",
    "    y_pred = model.predict(x_test)\n",
    "    \n",
    "    error = y_test - y_pred\n",
    "    percentil = [25,50,75]\n",
    "    percentil_value = np.percentile(error, percentil)\n",
    "    \n",
    "    metrics = [\n",
    "        ('mean absolute error', mean_absolute_error(y_test, y_pred)),\n",
    "        ('median absolute error', median_absolute_error(y_test, y_pred)),\n",
    "        ('mean squared error', mean_squared_error(y_test, y_pred)),\n",
    "        ('max error', max_error(y_test, y_pred)),\n",
    "        ('r2 score', r2_score(y_test, y_pred)),\n",
    "        ('explained variance score', explained_variance_score(y_test, y_pred))\n",
    "    ]\n",
    "    \n",
    "    print('Metricas for regression:')\n",
    "    for metric_name, metric_value in metrics:\n",
    "        print(f'{metric_name:>25s}: {metric_value: >20.3f}')\n",
    "        \n",
    "    print('\\nPercentiles:')\n",
    "    for p, pv in zip(percentil, percentil_value):\n",
    "        print(f'{p: 25d}: {pv:>20.3f}')\n",
    "\n",
    "    # Calculate various precision and accuracy score\n",
    "    score = model.score(x_test, y_test)\n",
    "    cv_score = cross_val_score(model, x_train, y_train, cv=5)\n",
    "\n",
    "\n",
    "    # Print all scores\n",
    "    print(f\"El score general del modelo es {score}\")\n",
    "    print(\n",
    "        f\"La media del cross validation score con k=5 es {statistics.median(cv_score)}\"\n",
    "    )"
   ]
  },
  {
   "cell_type": "markdown",
   "metadata": {
    "id": "kbDaDdEmNJTN"
   },
   "source": [
    "### XGBoost"
   ]
  },
  {
   "cell_type": "markdown",
   "metadata": {
    "id": "I77E2TxgEm3H"
   },
   "source": [
    "Utilizamos los hiperparametros obtenidos en el tp1"
   ]
  },
  {
   "cell_type": "code",
   "execution_count": 9,
   "metadata": {
    "id": "hDJvsXtKEsda"
   },
   "outputs": [],
   "source": [
    "modelo_tp1 = xgb.XGBRegressor(base_score=0.5, booster='gbtree', callbacks=None,\n",
    "             colsample_bylevel=1, colsample_bynode=1, colsample_bytree=1,\n",
    "             early_stopping_rounds=None, enable_categorical=False,\n",
    "             eval_metric='rmse', gamma=0, gpu_id=-1, grow_policy='depthwise',\n",
    "             importance_type=None, interaction_constraints='',\n",
    "             learning_rate=0.3, max_bin=256, max_cat_to_onehot=4,\n",
    "             max_delta_step=0, max_depth=6, max_leaves=0, min_child_weight=1,\n",
    "             monotone_constraints='()', n_estimators=100, n_jobs=0,\n",
    "             num_parallel_tree=1, predictor='auto', random_state=0, reg_alpha=0,\n",
    "             reg_lambda=1)"
   ]
  },
  {
   "cell_type": "code",
   "execution_count": 10,
   "metadata": {
    "colab": {
     "base_uri": "https://localhost:8080/"
    },
    "id": "Vsf_DcquQ7Db",
    "outputId": "3bb2ff03-02ba-4feb-98da-f5af64f57b47"
   },
   "outputs": [
    {
     "data": {
      "text/plain": [
       "XGBRegressor(base_score=0.5, booster='gbtree', callbacks=None,\n",
       "             colsample_bylevel=1, colsample_bynode=1, colsample_bytree=1,\n",
       "             early_stopping_rounds=None, enable_categorical=False,\n",
       "             eval_metric='rmse', gamma=0, gpu_id=-1, grow_policy='depthwise',\n",
       "             importance_type=None, interaction_constraints='',\n",
       "             learning_rate=0.3, max_bin=256, max_cat_to_onehot=4,\n",
       "             max_delta_step=0, max_depth=6, max_leaves=0, min_child_weight=1,\n",
       "             missing=nan, monotone_constraints='()', n_estimators=100, n_jobs=0,\n",
       "             num_parallel_tree=1, predictor='auto', random_state=0, reg_alpha=0,\n",
       "             reg_lambda=1, ...)"
      ]
     },
     "execution_count": 10,
     "metadata": {},
     "output_type": "execute_result"
    }
   ],
   "source": [
    "modelo_tp1.fit(ds_train_x, ds_train_y)"
   ]
  },
  {
   "cell_type": "code",
   "execution_count": 11,
   "metadata": {
    "colab": {
     "base_uri": "https://localhost:8080/"
    },
    "id": "crGvYmfvRO1h",
    "outputId": "a1f5b0e3-37ae-4edf-b641-733798d6c594"
   },
   "outputs": [
    {
     "name": "stdout",
     "output_type": "stream",
     "text": [
      "Metricas for regression:\n",
      "      mean absolute error:            40077.612\n",
      "    median absolute error:            18819.500\n",
      "       mean squared error:       8504629256.109\n",
      "                max error:          2487949.250\n",
      "                 r2 score:                0.894\n",
      " explained variance score:                0.895\n",
      "\n",
      "Percentiles:\n",
      "                       25:           -13539.340\n",
      "                       50:             3696.492\n",
      "                       75:            24972.504\n",
      "El score general del modelo es 0.8943279620167106\n",
      "La media del cross validation score con k=5 es 0.892281384846324\n"
     ]
    }
   ],
   "source": [
    "report_regression(modelo_tp1, ds_train_x, ds_train_y, ds_test_x, ds_test_y)"
   ]
  },
  {
   "cell_type": "markdown",
   "metadata": {
    "id": "md8jJV6dE7KR"
   },
   "source": [
    "Optimizamos hiperparametros con el nuevo data set"
   ]
  },
  {
   "cell_type": "code",
   "execution_count": 12,
   "metadata": {
    "id": "60SFXuJaAduw"
   },
   "outputs": [],
   "source": [
    "parameters = { 'objective' : ['reg:squarederror', 'reg:squaredlogerror'], 'n_estimators' : [100], 'max_depth' : [6], 'learning_rate' : [0.3, 0.5], 'booster': ['gbtree', 'dart'], 'eval_metric' : ['rmse'] }\n",
    "model = xgb.XGBRegressor()"
   ]
  },
  {
   "cell_type": "code",
   "execution_count": 13,
   "metadata": {
    "colab": {
     "base_uri": "https://localhost:8080/"
    },
    "id": "PN68pV9zAfCI",
    "outputId": "82d2f50f-a2ab-42d5-a628-831e2526d1f6"
   },
   "outputs": [
    {
     "name": "stderr",
     "output_type": "stream",
     "text": [
      "/usr/local/lib/python3.8/dist-packages/sklearn/model_selection/_search.py:292: UserWarning: The total space of parameters 8 is smaller than n_iter=10. Running 8 iterations. For exhaustive searches, use GridSearchCV.\n",
      "  warnings.warn(\n"
     ]
    },
    {
     "data": {
      "text/plain": [
       "RandomizedSearchCV(estimator=XGBRegressor(base_score=None, booster=None,\n",
       "                                          callbacks=None,\n",
       "                                          colsample_bylevel=None,\n",
       "                                          colsample_bynode=None,\n",
       "                                          colsample_bytree=None,\n",
       "                                          early_stopping_rounds=None,\n",
       "                                          enable_categorical=False,\n",
       "                                          eval_metric=None, gamma=None,\n",
       "                                          gpu_id=None, grow_policy=None,\n",
       "                                          importance_type=None,\n",
       "                                          interaction_constraints=None,\n",
       "                                          learning_rate=None, max_bin=None,\n",
       "                                          max_ca...\n",
       "                                          n_estimators=100, n_jobs=None,\n",
       "                                          num_parallel_tree=None,\n",
       "                                          predictor=None, random_state=None,\n",
       "                                          reg_alpha=None, reg_lambda=None, ...),\n",
       "                   n_jobs=-1,\n",
       "                   param_distributions={'booster': ['gbtree', 'dart'],\n",
       "                                        'eval_metric': ['rmse'],\n",
       "                                        'learning_rate': [0.3, 0.5],\n",
       "                                        'max_depth': [6], 'n_estimators': [100],\n",
       "                                        'objective': ['reg:squarederror',\n",
       "                                                      'reg:squaredlogerror']},\n",
       "                   scoring='neg_root_mean_squared_error')"
      ]
     },
     "execution_count": 13,
     "metadata": {},
     "output_type": "execute_result"
    }
   ],
   "source": [
    "gscv = RandomizedSearchCV(model, parameters, scoring='neg_root_mean_squared_error', n_jobs=-1, refit=True)\n",
    "\n",
    "gscv.fit(ds_train_x, ds_train_y) #20 minutos"
   ]
  },
  {
   "cell_type": "code",
   "execution_count": 14,
   "metadata": {
    "colab": {
     "base_uri": "https://localhost:8080/"
    },
    "id": "9MmarCgWAfeK",
    "outputId": "01b3fa56-39dc-4701-cf73-fd97373ae544"
   },
   "outputs": [
    {
     "name": "stdout",
     "output_type": "stream",
     "text": [
      "Metricas for regression:\n",
      "      mean absolute error:            40077.612\n",
      "    median absolute error:            18819.500\n",
      "       mean squared error:       8504629256.109\n",
      "                max error:          2487949.250\n",
      "                 r2 score:                0.894\n",
      " explained variance score:                0.895\n",
      "\n",
      "Percentiles:\n",
      "                       25:           -13539.340\n",
      "                       50:             3696.492\n",
      "                       75:            24972.504\n",
      "El score general del modelo es 0.8943279620167106\n",
      "La media del cross validation score con k=5 es 0.892281384846324\n"
     ]
    }
   ],
   "source": [
    "report_regression(gscv.best_estimator_, ds_train_x, ds_train_y, ds_test_x, ds_test_y)"
   ]
  },
  {
   "cell_type": "code",
   "execution_count": 15,
   "metadata": {
    "id": "aT6x_9WJbeMf"
   },
   "outputs": [],
   "source": [
    "# Guardamos el modelo\n",
    "import pickle\n",
    "\n",
    "filename = 'xgboost_tp2.sav'\n",
    "pickle.dump(gscv, open(filename, 'wb'))"
   ]
  },
  {
   "cell_type": "markdown",
   "metadata": {
    "id": "yQx109N9SHvw"
   },
   "source": [
    "Concluciones"
   ]
  },
  {
   "cell_type": "markdown",
   "metadata": {
    "id": "plVT3WwqSK-W"
   },
   "source": [
    "Realizamos las predicciones sobre el nuevo set de datos utilizando los hiperparametros obtenidos en el primer trabajo practico y los obtenidos en este segundo trabajo. En ambos casos la busqueda de hiperparametros arrojo los mismos resultados por lo que ambos modelos resultan ser identicos y como concecuencia el score es el mismo en ambos.\n",
    "\n",
    "En comparacion con los resutlados obtenidos en el trabajo anterior con el set de datos sin la informacion de las descripciones el score se redujo minimamente, pasamos de un score general de 0,90 a un score general de 0,892. Por lo que podemos decir que la nueva informacion agregada al data set no nos fue de utilidad."
   ]
  }
 ],
 "metadata": {
  "colab": {
   "provenance": []
  },
  "kernelspec": {
   "display_name": "Python 3 (ipykernel)",
   "language": "python",
   "name": "python3"
  },
  "language_info": {
   "codemirror_mode": {
    "name": "ipython",
    "version": 3
   },
   "file_extension": ".py",
   "mimetype": "text/x-python",
   "name": "python",
   "nbconvert_exporter": "python",
   "pygments_lexer": "ipython3",
   "version": "3.10.8"
  }
 },
 "nbformat": 4,
 "nbformat_minor": 1
}
