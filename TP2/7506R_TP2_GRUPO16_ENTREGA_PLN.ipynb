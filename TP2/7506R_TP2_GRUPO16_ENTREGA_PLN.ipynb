{
 "cells": [
  {
   "cell_type": "code",
   "execution_count": 23,
   "metadata": {
    "colab": {
     "base_uri": "https://localhost:8080/"
    },
    "id": "NH6d7Ngtf3cd",
    "outputId": "0c9d4264-ac21-4760-88b6-b865f238c8cb"
   },
   "outputs": [
    {
     "name": "stdout",
     "output_type": "stream",
     "text": [
      "Looking in indexes: https://pypi.org/simple, https://us-python.pkg.dev/colab-wheels/public/simple/\n",
      "Requirement already satisfied: dtreeviz in /usr/local/lib/python3.8/dist-packages (1.4.1)\n",
      "Requirement already satisfied: graphviz>=0.9 in /usr/local/lib/python3.8/dist-packages (from dtreeviz) (0.10.1)\n",
      "Requirement already satisfied: matplotlib in /usr/local/lib/python3.8/dist-packages (from dtreeviz) (3.1.1)\n",
      "Requirement already satisfied: pytest in /usr/local/lib/python3.8/dist-packages (from dtreeviz) (3.6.4)\n",
      "Requirement already satisfied: pandas in /usr/local/lib/python3.8/dist-packages (from dtreeviz) (1.3.5)\n",
      "Requirement already satisfied: colour in /usr/local/lib/python3.8/dist-packages (from dtreeviz) (0.1.5)\n",
      "Requirement already satisfied: numpy in /usr/local/lib/python3.8/dist-packages (from dtreeviz) (1.21.6)\n",
      "Requirement already satisfied: scikit-learn in /usr/local/lib/python3.8/dist-packages (from dtreeviz) (1.0.2)\n",
      "Requirement already satisfied: python-dateutil>=2.1 in /usr/local/lib/python3.8/dist-packages (from matplotlib->dtreeviz) (2.8.2)\n",
      "Requirement already satisfied: kiwisolver>=1.0.1 in /usr/local/lib/python3.8/dist-packages (from matplotlib->dtreeviz) (1.4.4)\n",
      "Requirement already satisfied: cycler>=0.10 in /usr/local/lib/python3.8/dist-packages (from matplotlib->dtreeviz) (0.11.0)\n",
      "Requirement already satisfied: pyparsing!=2.0.4,!=2.1.2,!=2.1.6,>=2.0.1 in /usr/local/lib/python3.8/dist-packages (from matplotlib->dtreeviz) (3.0.9)\n",
      "Requirement already satisfied: six>=1.5 in /usr/local/lib/python3.8/dist-packages (from python-dateutil>=2.1->matplotlib->dtreeviz) (1.15.0)\n",
      "Requirement already satisfied: pytz>=2017.3 in /usr/local/lib/python3.8/dist-packages (from pandas->dtreeviz) (2022.6)\n",
      "Requirement already satisfied: setuptools in /usr/local/lib/python3.8/dist-packages (from pytest->dtreeviz) (57.4.0)\n",
      "Requirement already satisfied: attrs>=17.4.0 in /usr/local/lib/python3.8/dist-packages (from pytest->dtreeviz) (22.1.0)\n",
      "Requirement already satisfied: more-itertools>=4.0.0 in /usr/local/lib/python3.8/dist-packages (from pytest->dtreeviz) (9.0.0)\n",
      "Requirement already satisfied: py>=1.5.0 in /usr/local/lib/python3.8/dist-packages (from pytest->dtreeviz) (1.11.0)\n",
      "Requirement already satisfied: pluggy<0.8,>=0.5 in /usr/local/lib/python3.8/dist-packages (from pytest->dtreeviz) (0.7.1)\n",
      "Requirement already satisfied: atomicwrites>=1.0 in /usr/local/lib/python3.8/dist-packages (from pytest->dtreeviz) (1.4.1)\n",
      "Requirement already satisfied: joblib>=0.11 in /usr/local/lib/python3.8/dist-packages (from scikit-learn->dtreeviz) (1.2.0)\n",
      "Requirement already satisfied: scipy>=1.1.0 in /usr/local/lib/python3.8/dist-packages (from scikit-learn->dtreeviz) (1.7.3)\n",
      "Requirement already satisfied: threadpoolctl>=2.0.0 in /usr/local/lib/python3.8/dist-packages (from scikit-learn->dtreeviz) (3.1.0)\n",
      "Looking in indexes: https://pypi.org/simple, https://us-python.pkg.dev/colab-wheels/public/simple/\n",
      "Requirement already satisfied: pyreadstat in /usr/local/lib/python3.8/dist-packages (1.2.0)\n",
      "Requirement already satisfied: pandas>=1.2.0 in /usr/local/lib/python3.8/dist-packages (from pyreadstat) (1.3.5)\n",
      "Requirement already satisfied: pytz>=2017.3 in /usr/local/lib/python3.8/dist-packages (from pandas>=1.2.0->pyreadstat) (2022.6)\n",
      "Requirement already satisfied: numpy>=1.17.3 in /usr/local/lib/python3.8/dist-packages (from pandas>=1.2.0->pyreadstat) (1.21.6)\n",
      "Requirement already satisfied: python-dateutil>=2.7.3 in /usr/local/lib/python3.8/dist-packages (from pandas>=1.2.0->pyreadstat) (2.8.2)\n",
      "Requirement already satisfied: six>=1.5 in /usr/local/lib/python3.8/dist-packages (from python-dateutil>=2.7.3->pandas>=1.2.0->pyreadstat) (1.15.0)\n",
      "Looking in indexes: https://pypi.org/simple, https://us-python.pkg.dev/colab-wheels/public/simple/\n",
      "Requirement already satisfied: visualkeras in /usr/local/lib/python3.8/dist-packages (0.0.2)\n",
      "Requirement already satisfied: numpy>=1.18.1 in /usr/local/lib/python3.8/dist-packages (from visualkeras) (1.21.6)\n",
      "Requirement already satisfied: aggdraw>=1.3.11 in /usr/local/lib/python3.8/dist-packages (from visualkeras) (1.3.15)\n",
      "Requirement already satisfied: pillow>=6.2.0 in /usr/local/lib/python3.8/dist-packages (from visualkeras) (7.1.2)\n",
      "Looking in indexes: https://pypi.org/simple, https://us-python.pkg.dev/colab-wheels/public/simple/\n",
      "Requirement already satisfied: keras_tuner in /usr/local/lib/python3.8/dist-packages (1.1.3)\n",
      "Requirement already satisfied: packaging in /usr/local/lib/python3.8/dist-packages (from keras_tuner) (21.3)\n",
      "Requirement already satisfied: kt-legacy in /usr/local/lib/python3.8/dist-packages (from keras_tuner) (1.0.4)\n",
      "Requirement already satisfied: requests in /usr/local/lib/python3.8/dist-packages (from keras_tuner) (2.23.0)\n",
      "Requirement already satisfied: numpy in /usr/local/lib/python3.8/dist-packages (from keras_tuner) (1.21.6)\n",
      "Requirement already satisfied: ipython in /usr/local/lib/python3.8/dist-packages (from keras_tuner) (7.9.0)\n",
      "Requirement already satisfied: tensorboard in /usr/local/lib/python3.8/dist-packages (from keras_tuner) (2.9.1)\n",
      "Requirement already satisfied: backcall in /usr/local/lib/python3.8/dist-packages (from ipython->keras_tuner) (0.2.0)\n",
      "Requirement already satisfied: pickleshare in /usr/local/lib/python3.8/dist-packages (from ipython->keras_tuner) (0.7.5)\n",
      "Requirement already satisfied: traitlets>=4.2 in /usr/local/lib/python3.8/dist-packages (from ipython->keras_tuner) (5.6.0)\n",
      "Requirement already satisfied: prompt-toolkit<2.1.0,>=2.0.0 in /usr/local/lib/python3.8/dist-packages (from ipython->keras_tuner) (2.0.10)\n",
      "Requirement already satisfied: decorator in /usr/local/lib/python3.8/dist-packages (from ipython->keras_tuner) (4.4.2)\n",
      "Requirement already satisfied: pygments in /usr/local/lib/python3.8/dist-packages (from ipython->keras_tuner) (2.6.1)\n",
      "Requirement already satisfied: setuptools>=18.5 in /usr/local/lib/python3.8/dist-packages (from ipython->keras_tuner) (57.4.0)\n",
      "Requirement already satisfied: jedi>=0.10 in /usr/local/lib/python3.8/dist-packages (from ipython->keras_tuner) (0.18.2)\n",
      "Requirement already satisfied: pexpect in /usr/local/lib/python3.8/dist-packages (from ipython->keras_tuner) (4.8.0)\n",
      "Requirement already satisfied: parso<0.9.0,>=0.8.0 in /usr/local/lib/python3.8/dist-packages (from jedi>=0.10->ipython->keras_tuner) (0.8.3)\n",
      "Requirement already satisfied: wcwidth in /usr/local/lib/python3.8/dist-packages (from prompt-toolkit<2.1.0,>=2.0.0->ipython->keras_tuner) (0.2.5)\n",
      "Requirement already satisfied: six>=1.9.0 in /usr/local/lib/python3.8/dist-packages (from prompt-toolkit<2.1.0,>=2.0.0->ipython->keras_tuner) (1.15.0)\n",
      "Requirement already satisfied: pyparsing!=3.0.5,>=2.0.2 in /usr/local/lib/python3.8/dist-packages (from packaging->keras_tuner) (3.0.9)\n",
      "Requirement already satisfied: ptyprocess>=0.5 in /usr/local/lib/python3.8/dist-packages (from pexpect->ipython->keras_tuner) (0.7.0)\n",
      "Requirement already satisfied: urllib3!=1.25.0,!=1.25.1,<1.26,>=1.21.1 in /usr/local/lib/python3.8/dist-packages (from requests->keras_tuner) (1.24.3)\n",
      "Requirement already satisfied: idna<3,>=2.5 in /usr/local/lib/python3.8/dist-packages (from requests->keras_tuner) (2.10)\n",
      "Requirement already satisfied: certifi>=2017.4.17 in /usr/local/lib/python3.8/dist-packages (from requests->keras_tuner) (2022.9.24)\n",
      "Requirement already satisfied: chardet<4,>=3.0.2 in /usr/local/lib/python3.8/dist-packages (from requests->keras_tuner) (3.0.4)\n",
      "Requirement already satisfied: tensorboard-plugin-wit>=1.6.0 in /usr/local/lib/python3.8/dist-packages (from tensorboard->keras_tuner) (1.8.1)\n",
      "Requirement already satisfied: wheel>=0.26 in /usr/local/lib/python3.8/dist-packages (from tensorboard->keras_tuner) (0.38.4)\n",
      "Requirement already satisfied: werkzeug>=1.0.1 in /usr/local/lib/python3.8/dist-packages (from tensorboard->keras_tuner) (1.0.1)\n",
      "Requirement already satisfied: grpcio>=1.24.3 in /usr/local/lib/python3.8/dist-packages (from tensorboard->keras_tuner) (1.51.1)\n",
      "Requirement already satisfied: google-auth-oauthlib<0.5,>=0.4.1 in /usr/local/lib/python3.8/dist-packages (from tensorboard->keras_tuner) (0.4.6)\n",
      "Requirement already satisfied: protobuf<3.20,>=3.9.2 in /usr/local/lib/python3.8/dist-packages (from tensorboard->keras_tuner) (3.19.6)\n",
      "Requirement already satisfied: absl-py>=0.4 in /usr/local/lib/python3.8/dist-packages (from tensorboard->keras_tuner) (1.3.0)\n",
      "Requirement already satisfied: tensorboard-data-server<0.7.0,>=0.6.0 in /usr/local/lib/python3.8/dist-packages (from tensorboard->keras_tuner) (0.6.1)\n",
      "Requirement already satisfied: google-auth<3,>=1.6.3 in /usr/local/lib/python3.8/dist-packages (from tensorboard->keras_tuner) (2.15.0)\n",
      "Requirement already satisfied: markdown>=2.6.8 in /usr/local/lib/python3.8/dist-packages (from tensorboard->keras_tuner) (3.4.1)\n",
      "Requirement already satisfied: rsa<5,>=3.1.4 in /usr/local/lib/python3.8/dist-packages (from google-auth<3,>=1.6.3->tensorboard->keras_tuner) (4.9)\n",
      "Requirement already satisfied: pyasn1-modules>=0.2.1 in /usr/local/lib/python3.8/dist-packages (from google-auth<3,>=1.6.3->tensorboard->keras_tuner) (0.2.8)\n",
      "Requirement already satisfied: cachetools<6.0,>=2.0.0 in /usr/local/lib/python3.8/dist-packages (from google-auth<3,>=1.6.3->tensorboard->keras_tuner) (5.2.0)\n",
      "Requirement already satisfied: requests-oauthlib>=0.7.0 in /usr/local/lib/python3.8/dist-packages (from google-auth-oauthlib<0.5,>=0.4.1->tensorboard->keras_tuner) (1.3.1)\n",
      "Requirement already satisfied: importlib-metadata>=4.4 in /usr/local/lib/python3.8/dist-packages (from markdown>=2.6.8->tensorboard->keras_tuner) (4.13.0)\n",
      "Requirement already satisfied: zipp>=0.5 in /usr/local/lib/python3.8/dist-packages (from importlib-metadata>=4.4->markdown>=2.6.8->tensorboard->keras_tuner) (3.11.0)\n",
      "Requirement already satisfied: pyasn1<0.5.0,>=0.4.6 in /usr/local/lib/python3.8/dist-packages (from pyasn1-modules>=0.2.1->google-auth<3,>=1.6.3->tensorboard->keras_tuner) (0.4.8)\n",
      "Requirement already satisfied: oauthlib>=3.0.0 in /usr/local/lib/python3.8/dist-packages (from requests-oauthlib>=0.7.0->google-auth-oauthlib<0.5,>=0.4.1->tensorboard->keras_tuner) (3.2.2)\n",
      "Looking in indexes: https://pypi.org/simple, https://us-python.pkg.dev/colab-wheels/public/simple/\n",
      "Requirement already satisfied: gdown in /usr/local/lib/python3.8/dist-packages (4.4.0)\n",
      "Requirement already satisfied: filelock in /usr/local/lib/python3.8/dist-packages (from gdown) (3.8.0)\n",
      "Requirement already satisfied: requests[socks] in /usr/local/lib/python3.8/dist-packages (from gdown) (2.23.0)\n",
      "Requirement already satisfied: six in /usr/local/lib/python3.8/dist-packages (from gdown) (1.15.0)\n",
      "Requirement already satisfied: beautifulsoup4 in /usr/local/lib/python3.8/dist-packages (from gdown) (4.6.3)\n",
      "Requirement already satisfied: tqdm in /usr/local/lib/python3.8/dist-packages (from gdown) (4.64.1)\n",
      "Requirement already satisfied: idna<3,>=2.5 in /usr/local/lib/python3.8/dist-packages (from requests[socks]->gdown) (2.10)\n",
      "Requirement already satisfied: urllib3!=1.25.0,!=1.25.1,<1.26,>=1.21.1 in /usr/local/lib/python3.8/dist-packages (from requests[socks]->gdown) (1.24.3)\n",
      "Requirement already satisfied: certifi>=2017.4.17 in /usr/local/lib/python3.8/dist-packages (from requests[socks]->gdown) (2022.9.24)\n",
      "Requirement already satisfied: chardet<4,>=3.0.2 in /usr/local/lib/python3.8/dist-packages (from requests[socks]->gdown) (3.0.4)\n",
      "Requirement already satisfied: PySocks!=1.5.7,>=1.5.6 in /usr/local/lib/python3.8/dist-packages (from requests[socks]->gdown) (1.7.1)\n",
      "Looking in indexes: https://pypi.org/simple, https://us-python.pkg.dev/colab-wheels/public/simple/\n",
      "Requirement already satisfied: matplotlib==3.1.1 in /usr/local/lib/python3.8/dist-packages (3.1.1)\n",
      "Requirement already satisfied: pyparsing!=2.0.4,!=2.1.2,!=2.1.6,>=2.0.1 in /usr/local/lib/python3.8/dist-packages (from matplotlib==3.1.1) (3.0.9)\n",
      "Requirement already satisfied: numpy>=1.11 in /usr/local/lib/python3.8/dist-packages (from matplotlib==3.1.1) (1.21.6)\n",
      "Requirement already satisfied: kiwisolver>=1.0.1 in /usr/local/lib/python3.8/dist-packages (from matplotlib==3.1.1) (1.4.4)\n",
      "Requirement already satisfied: cycler>=0.10 in /usr/local/lib/python3.8/dist-packages (from matplotlib==3.1.1) (0.11.0)\n",
      "Requirement already satisfied: python-dateutil>=2.1 in /usr/local/lib/python3.8/dist-packages (from matplotlib==3.1.1) (2.8.2)\n",
      "Requirement already satisfied: six>=1.5 in /usr/local/lib/python3.8/dist-packages (from python-dateutil>=2.1->matplotlib==3.1.1) (1.15.0)\n",
      "/usr/local/lib/python3.8/dist-packages/torch/cuda/__init__.py:497: UserWarning: Can't initialize NVML\n",
      "  warnings.warn(\"Can't initialize NVML\")\n",
      "2022-12-08 21:18:45.742466: E tensorflow/stream_executor/cuda/cuda_driver.cc:271] failed call to cuInit: CUDA_ERROR_NO_DEVICE: no CUDA-capable device is detected\n",
      "Looking in indexes: https://pypi.org/simple, https://us-python.pkg.dev/colab-wheels/public/simple/\n",
      "Collecting es-core-news-sm==3.4.0\n",
      "  Downloading https://github.com/explosion/spacy-models/releases/download/es_core_news_sm-3.4.0/es_core_news_sm-3.4.0-py3-none-any.whl (12.9 MB)\n",
      "\u001b[K     |████████████████████████████████| 12.9 MB 1.9 MB/s \n",
      "\u001b[?25hRequirement already satisfied: spacy<3.5.0,>=3.4.0 in /usr/local/lib/python3.8/dist-packages (from es-core-news-sm==3.4.0) (3.4.3)\n",
      "Requirement already satisfied: setuptools in /usr/local/lib/python3.8/dist-packages (from spacy<3.5.0,>=3.4.0->es-core-news-sm==3.4.0) (57.4.0)\n",
      "Requirement already satisfied: murmurhash<1.1.0,>=0.28.0 in /usr/local/lib/python3.8/dist-packages (from spacy<3.5.0,>=3.4.0->es-core-news-sm==3.4.0) (1.0.9)\n",
      "Requirement already satisfied: spacy-loggers<2.0.0,>=1.0.0 in /usr/local/lib/python3.8/dist-packages (from spacy<3.5.0,>=3.4.0->es-core-news-sm==3.4.0) (1.0.3)\n",
      "Requirement already satisfied: pathy>=0.3.5 in /usr/local/lib/python3.8/dist-packages (from spacy<3.5.0,>=3.4.0->es-core-news-sm==3.4.0) (0.10.0)\n",
      "Requirement already satisfied: preshed<3.1.0,>=3.0.2 in /usr/local/lib/python3.8/dist-packages (from spacy<3.5.0,>=3.4.0->es-core-news-sm==3.4.0) (3.0.8)\n",
      "Requirement already satisfied: spacy-legacy<3.1.0,>=3.0.10 in /usr/local/lib/python3.8/dist-packages (from spacy<3.5.0,>=3.4.0->es-core-news-sm==3.4.0) (3.0.10)\n",
      "Requirement already satisfied: typer<0.8.0,>=0.3.0 in /usr/local/lib/python3.8/dist-packages (from spacy<3.5.0,>=3.4.0->es-core-news-sm==3.4.0) (0.7.0)\n",
      "Requirement already satisfied: thinc<8.2.0,>=8.1.0 in /usr/local/lib/python3.8/dist-packages (from spacy<3.5.0,>=3.4.0->es-core-news-sm==3.4.0) (8.1.5)\n",
      "Requirement already satisfied: langcodes<4.0.0,>=3.2.0 in /usr/local/lib/python3.8/dist-packages (from spacy<3.5.0,>=3.4.0->es-core-news-sm==3.4.0) (3.3.0)\n",
      "Requirement already satisfied: srsly<3.0.0,>=2.4.3 in /usr/local/lib/python3.8/dist-packages (from spacy<3.5.0,>=3.4.0->es-core-news-sm==3.4.0) (2.4.5)\n",
      "Requirement already satisfied: jinja2 in /usr/local/lib/python3.8/dist-packages (from spacy<3.5.0,>=3.4.0->es-core-news-sm==3.4.0) (2.11.3)\n",
      "Requirement already satisfied: requests<3.0.0,>=2.13.0 in /usr/local/lib/python3.8/dist-packages (from spacy<3.5.0,>=3.4.0->es-core-news-sm==3.4.0) (2.23.0)\n",
      "Requirement already satisfied: pydantic!=1.8,!=1.8.1,<1.11.0,>=1.7.4 in /usr/local/lib/python3.8/dist-packages (from spacy<3.5.0,>=3.4.0->es-core-news-sm==3.4.0) (1.10.2)\n",
      "Requirement already satisfied: wasabi<1.1.0,>=0.9.1 in /usr/local/lib/python3.8/dist-packages (from spacy<3.5.0,>=3.4.0->es-core-news-sm==3.4.0) (0.10.1)\n",
      "Requirement already satisfied: catalogue<2.1.0,>=2.0.6 in /usr/local/lib/python3.8/dist-packages (from spacy<3.5.0,>=3.4.0->es-core-news-sm==3.4.0) (2.0.8)\n",
      "Requirement already satisfied: numpy>=1.15.0 in /usr/local/lib/python3.8/dist-packages (from spacy<3.5.0,>=3.4.0->es-core-news-sm==3.4.0) (1.21.6)\n",
      "Requirement already satisfied: tqdm<5.0.0,>=4.38.0 in /usr/local/lib/python3.8/dist-packages (from spacy<3.5.0,>=3.4.0->es-core-news-sm==3.4.0) (4.64.1)\n",
      "Requirement already satisfied: packaging>=20.0 in /usr/local/lib/python3.8/dist-packages (from spacy<3.5.0,>=3.4.0->es-core-news-sm==3.4.0) (21.3)\n",
      "Requirement already satisfied: cymem<2.1.0,>=2.0.2 in /usr/local/lib/python3.8/dist-packages (from spacy<3.5.0,>=3.4.0->es-core-news-sm==3.4.0) (2.0.7)\n",
      "Requirement already satisfied: pyparsing!=3.0.5,>=2.0.2 in /usr/local/lib/python3.8/dist-packages (from packaging>=20.0->spacy<3.5.0,>=3.4.0->es-core-news-sm==3.4.0) (3.0.9)\n",
      "Requirement already satisfied: smart-open<6.0.0,>=5.2.1 in /usr/local/lib/python3.8/dist-packages (from pathy>=0.3.5->spacy<3.5.0,>=3.4.0->es-core-news-sm==3.4.0) (5.2.1)\n",
      "Requirement already satisfied: typing-extensions>=4.1.0 in /usr/local/lib/python3.8/dist-packages (from pydantic!=1.8,!=1.8.1,<1.11.0,>=1.7.4->spacy<3.5.0,>=3.4.0->es-core-news-sm==3.4.0) (4.4.0)\n",
      "Requirement already satisfied: idna<3,>=2.5 in /usr/local/lib/python3.8/dist-packages (from requests<3.0.0,>=2.13.0->spacy<3.5.0,>=3.4.0->es-core-news-sm==3.4.0) (2.10)\n",
      "Requirement already satisfied: urllib3!=1.25.0,!=1.25.1,<1.26,>=1.21.1 in /usr/local/lib/python3.8/dist-packages (from requests<3.0.0,>=2.13.0->spacy<3.5.0,>=3.4.0->es-core-news-sm==3.4.0) (1.24.3)\n",
      "Requirement already satisfied: chardet<4,>=3.0.2 in /usr/local/lib/python3.8/dist-packages (from requests<3.0.0,>=2.13.0->spacy<3.5.0,>=3.4.0->es-core-news-sm==3.4.0) (3.0.4)\n",
      "Requirement already satisfied: certifi>=2017.4.17 in /usr/local/lib/python3.8/dist-packages (from requests<3.0.0,>=2.13.0->spacy<3.5.0,>=3.4.0->es-core-news-sm==3.4.0) (2022.9.24)\n",
      "Requirement already satisfied: blis<0.8.0,>=0.7.8 in /usr/local/lib/python3.8/dist-packages (from thinc<8.2.0,>=8.1.0->spacy<3.5.0,>=3.4.0->es-core-news-sm==3.4.0) (0.7.9)\n",
      "Requirement already satisfied: confection<1.0.0,>=0.0.1 in /usr/local/lib/python3.8/dist-packages (from thinc<8.2.0,>=8.1.0->spacy<3.5.0,>=3.4.0->es-core-news-sm==3.4.0) (0.0.3)\n",
      "Requirement already satisfied: click<9.0.0,>=7.1.1 in /usr/local/lib/python3.8/dist-packages (from typer<0.8.0,>=0.3.0->spacy<3.5.0,>=3.4.0->es-core-news-sm==3.4.0) (7.1.2)\n",
      "Requirement already satisfied: MarkupSafe>=0.23 in /usr/local/lib/python3.8/dist-packages (from jinja2->spacy<3.5.0,>=3.4.0->es-core-news-sm==3.4.0) (2.0.1)\n"
     ]
    }
   ],
   "source": [
    "!pip install dtreeviz\n",
    "!pip install pyreadstat\n",
    "!pip install visualkeras\n",
    "!pip install keras_tuner\n",
    "!pip install gdown\n",
    "!pip install matplotlib==3.1.1\n",
    "!pip install $(spacy info es_core_news_sm --url)"
   ]
  },
  {
   "cell_type": "code",
   "execution_count": 24,
   "metadata": {
    "id": "0B1RX08ZbwKN"
   },
   "outputs": [],
   "source": [
    "import string\n",
    "import pandas as pd\n",
    "import numpy as np\n",
    "import csv\n",
    "import statistics\n",
    "\n",
    "#Visualización\n",
    "from seaborn import color_palette\n",
    "import matplotlib.pyplot as plt\n",
    "import seaborn as sns\n",
    "\n",
    "# Pickle\n",
    "import pickle\n",
    "\n",
    "import pyreadstat\n",
    "\n",
    "#configuración warnings\n",
    "import warnings\n",
    "warnings.simplefilter(action='ignore', category=FutureWarning)\n",
    "warnings.simplefilter(action='ignore', category=UserWarning)\n",
    "\n",
    "\n",
    "# \n",
    "import spacy\n",
    "from collections import Counter\n",
    "\n",
    "#USAR PARA VER LAS DESCRIPCIONES COMPLETAS\n",
    "pd.set_option('display.max_colwidth', None)"
   ]
  },
  {
   "cell_type": "markdown",
   "metadata": {
    "id": "Jw_diAdlnmU2"
   },
   "source": [
    "Importamos dataset varios"
   ]
  },
  {
   "cell_type": "code",
   "execution_count": 25,
   "metadata": {
    "id": "VssL2VPljBVe"
   },
   "outputs": [],
   "source": [
    "url = 'https://drive.google.com/file/d/1pjD0WMUmUzX871xIXfkqqAEEi17C87rd/view?usp=sharing'\n",
    "path = 'https://drive.google.com/uc?export=download&id='+url.split('/')[-2]\n",
    "\n",
    "ds_propiedades = pd.read_csv(path)"
   ]
  },
  {
   "cell_type": "code",
   "execution_count": null,
   "metadata": {
    "id": "VFV8LvdTfCmX"
   },
   "outputs": [],
   "source": [
    "url = 'https://drive.google.com/file/d/1kHwjnroz-B9e56X8h-FCErXwyJocjnyf/view?usp=share_link'\n",
    "path = 'https://drive.google.com/uc?export=download&id='+url.split('/')[-2]\n",
    "\n",
    "ds_train = pd.read_csv(path)\n",
    "ds_train.loc[:, ~ds_train.columns.str.contains('^Unnamed')]\n"
   ]
  },
  {
   "cell_type": "code",
   "execution_count": null,
   "metadata": {
    "id": "H4UtdKapwS8J"
   },
   "outputs": [],
   "source": [
    "url = 'https://drive.google.com/file/d/1BtGrZB4SDa-Ta083wigArlxC81TAbYta/view?usp=sharing'\n",
    "path = 'https://drive.google.com/uc?export=download&id='+url.split('/')[-2]\n",
    "\n",
    "ds_test = pd.read_csv(path)\n",
    "ds_test.loc[:, ~ds_test.columns.str.contains('^Unnamed')]"
   ]
  },
  {
   "cell_type": "code",
   "execution_count": 28,
   "metadata": {
    "id": "szDWmitfujRc"
   },
   "outputs": [],
   "source": [
    "url = 'https://drive.google.com/file/d/1xjZFkcBtrJkfAdtzyBGl_wtAIiLzv-RL/view?usp=sharing&confirm=t'\n",
    "path = 'https://drive.google.com/uc?export=download&id='+url.split('/')[-2]+\"&confirm=t\"\n",
    "\n",
    "ds_descripciones = pd.read_csv(path)\n",
    "ds_descripciones = ds_descripciones[ds_descripciones['id'].isin(ds_propiedades['id'])]"
   ]
  },
  {
   "cell_type": "markdown",
   "metadata": {
    "id": "il3STqXEztvI"
   },
   "source": [
    "## Analisis del lenguaje natural"
   ]
  },
  {
   "cell_type": "markdown",
   "metadata": {
    "id": "eWVyf5-3xG1I"
   },
   "source": [
    "Unimos los dos datasets: el de descripciones y el preprocesado en el tp1. Para esto usamos el atributo 'id' de ambos.\n"
   ]
  },
  {
   "cell_type": "code",
   "execution_count": 29,
   "metadata": {
    "id": "n5p-tDca1PyX"
   },
   "outputs": [],
   "source": [
    "ds_pln_train = ds_train.merge(ds_descripciones, left_on='id', right_on='id')\n",
    "ds_pln_test = ds_test.merge(ds_descripciones, left_on='id', right_on='id')"
   ]
  },
  {
   "cell_type": "markdown",
   "metadata": {
    "id": "iIssz7Xmxced"
   },
   "source": [
    "Normalizamos las expresiones regulares de la columna de descripciones de nuestro dataset"
   ]
  },
  {
   "cell_type": "code",
   "execution_count": 30,
   "metadata": {
    "id": "Pn1pa6942WK4"
   },
   "outputs": [],
   "source": [
    "def normalizar(descripcion):\n",
    "  descripcion = descripcion.lower()\n",
    "  descripcion = descripcion.replace('á', 'a')\n",
    "  descripcion = descripcion.replace('é', 'e')\n",
    "  descripcion = descripcion.replace('í', 'i')\n",
    "  descripcion = descripcion.replace('ó', 'o')\n",
    "  descripcion = descripcion.replace('ú', 'u')\n",
    "  descripcion = descripcion.replace('ü', 'u')\n",
    "  descripcion = descripcion.replace('Á', 'a')\n",
    "  descripcion = descripcion.replace('É', 'e')\n",
    "  descripcion = descripcion.replace('Í', 'i')\n",
    "  descripcion = descripcion.replace('Ó', 'o')\n",
    "  descripcion = descripcion.replace('Ú', 'u')\n",
    "  descripcion = descripcion.replace('ñ', 'ni')\n",
    "  descripcion = descripcion.replace('Ñ', 'Ni')\n",
    "  descripcion = descripcion.replace('m²','m2')\n",
    "  descripcion = descripcion.replace('M²', 'M2')\n",
    "  descripcion = descripcion.replace('&', ' ')\n",
    "  descripcion = descripcion.replace(' y ', ' ')\n",
    "  descripcion = descripcion.replace(' el ', ' ')\n",
    "  descripcion = descripcion.replace(' los ', ' ')\n",
    "  descripcion = descripcion.replace(' la ', ' ')\n",
    "  descripcion = descripcion.replace(' las ', ' ')\n",
    "  descripcion = descripcion.replace(' a ', ' ')\n",
    "  descripcion = descripcion.replace(' o ', ' ')\n",
    "  descripcion = descripcion.replace('\\n', ' ')\n",
    "  descripcion = descripcion.replace('para', ' ')\n",
    "  descripcion = descripcion.replace('tiene', ' ')\n",
    "  descripcion = descripcion.replace('como', ' ')\n",
    "  descripcion = descripcion.replace('esta', ' ')\n",
    "  descripcion = descripcion.replace('este', ' ')\n",
    "  descripcion = descripcion.replace('hasta', ' ')\n",
    "  descripcion = descripcion.replace('aire acondicionado', 'aire-acondicionado')\n",
    "  descripcion = descripcion.replace('podes', '')\n",
    "  descripcion = descripcion.replace('simula', '')\n",
    "  descripcion = descripcion.replace('gran vista', 'gran-vista')\n",
    "  descripcion = descripcion.replace('parte', '')\n",
    "  descripcion = descripcion.replace('encuentra', '')\n",
    "  descripcion = descripcion.replace('presente', '')\n",
    "  descripcion = descripcion.replace('todas', '')\n",
    "  descripcion = descripcion.replace('todos', '')\n",
    "  descripcion = descripcion.replace('sobre', '')\n",
    "  descripcion = descripcion.replace('titulo', '')\n",
    "  descripcion = descripcion.replace('piso', '')\n",
    "  descripcion = descripcion.replace('tipo', '')\n",
    "  descripcion = descripcion.replace('todo', '')\n",
    "  descripcion = descripcion.replace('total', '')\n",
    "  descripcion = descripcion.replace('aproximado', '')\n",
    "  descripcion = descripcion.replace(' cion ', '')\n",
    "  descripcion = descripcion.replace('puede', '')\n",
    "  descripcion = descripcion.replace('Gimnasio', 'gimnasio')\n",
    "  descripcion = descripcion.replace('a estrenar', 'a_estrenar')\n",
    "  descripcion = descripcion.replace('av', 'avenida')\n",
    "  descripcion = descripcion.replace('av.', 'avenida')\n",
    "\n",
    "  return descripcion\n",
    "\n",
    "\n",
    "\n",
    "def borrar_signos_puntuacion_caracteres_especiales(row):\n",
    "  descripcion = row['property_description']\n",
    "  descripcion = normalizar(descripcion)\n",
    "\n",
    "  return descripcion.translate(str.maketrans('', '', string.punctuation))"
   ]
  },
  {
   "cell_type": "markdown",
   "metadata": {
    "id": "voTWe5itot-H"
   },
   "source": [
    "Aplicamos las funciones de limpieza y usamos una regexp para quedarnos nada mas con numeros, letras y simbolos de puntuacion."
   ]
  },
  {
   "cell_type": "code",
   "execution_count": 31,
   "metadata": {
    "id": "9kVCFCZXcvgq"
   },
   "outputs": [],
   "source": [
    "ds_pln_train.property_description = ds_pln_train.apply(lambda row: borrar_signos_puntuacion_caracteres_especiales(row), axis=1)\n",
    "ds_pln_test.property_description = ds_pln_test.apply(lambda row: borrar_signos_puntuacion_caracteres_especiales(row), axis=1)\n",
    "\n",
    "ds_pln_train['property_description'] = ds_pln_train['property_description'].replace(r'[^A-Za-z0-9,.!]', ' ', regex=True)\n",
    "ds_pln_test['property_description'] = ds_pln_test['property_description'].replace(r'[^a-zA-Z0-9,.!]', ' ', regex=True)\n"
   ]
  },
  {
   "cell_type": "markdown",
   "metadata": {
    "id": "ze0zTeLlxx7d"
   },
   "source": [
    "Vemos la frecuencia de las palabras más usadas en las descripciones de las propiedades y las graficamos."
   ]
  },
  {
   "cell_type": "code",
   "execution_count": 32,
   "metadata": {
    "colab": {
     "base_uri": "https://localhost:8080/",
     "height": 673
    },
    "id": "nZPsw_7Haf6n",
    "outputId": "43f9b149-9bbc-4fed-f2ac-cdcee6b915d2"
   },
   "outputs": [
    {
     "data": {
      "image/png": "[encoded data removed]",
      "text/plain": [
       "<Figure size 1440x720 with 1 Axes>"
      ]
     },
     "metadata": {
      "needs_background": "light"
     },
     "output_type": "display_data"
    }
   ],
   "source": [
    "word_count = {}\n",
    "ds_pln_train.reset_index(drop=True, inplace=True)\n",
    "\n",
    "for i in range(len(ds_pln_train['property_description'])):\n",
    "    if type(ds_pln_train['property_description'][i]) == str:\n",
    "        for word in ds_pln_train['property_description'][i].split():\n",
    "            if len(word) < 4:\n",
    "                continue\n",
    "            if word in word_count:\n",
    "                word_count[word] += 1\n",
    "            else:\n",
    "                word_count[word] = 1\n",
    "\n",
    "# save dictionary in a dataframe\n",
    "\n",
    "word_count_aux = word_count.copy()\n",
    "\n",
    "for key, value in word_count_aux.items():\n",
    "    if value <= 300:\n",
    "        del word_count[key]\n",
    "\n",
    "df_word_count = pd.DataFrame.from_dict(word_count, orient='index', columns=['count'])\n",
    "df_word_count.sort_values(by=['count'], ascending=False, inplace=True)\n",
    "df_word_count\n",
    "\n",
    "\n",
    "\n",
    "# barplot of the 20 most common words\n",
    "plt.figure(figsize=(20,10))\n",
    "sns.barplot(x=df_word_count.index[:100], y=df_word_count['count'][:100])\n",
    "plt.xticks(rotation=90)\n",
    "plt.show()"
   ]
  },
  {
   "cell_type": "markdown",
   "metadata": {
    "id": "_BoLUtnfpHYN"
   },
   "source": [
    "Generamos las nuevas columnas usando palabras claves en el dominio del problema."
   ]
  },
  {
   "cell_type": "code",
   "execution_count": 33,
   "metadata": {
    "id": "D_NZvI4PkERt"
   },
   "outputs": [],
   "source": [
    "def crear_columnas_pnl(row, col):\n",
    "  if col in row['property_description']:\n",
    "    return 1\n",
    "  \n",
    "  return 0\n",
    "\n",
    "columnas_pnl = [\"cochera\", \"aire-acondicionado\", \"gran-vista\", \"parque\", \"balcon\", \"amplio\", \"luminoso\", \"terraza\", \"a_estrenar\", \"gimnasio\"]\n",
    "for col in columnas_pnl:\n",
    "  ds_pln_train[col] = ds_pln_train.apply(lambda row: crear_columnas_pnl(row,col), axis=1)\n",
    "  ds_pln_test[col] = ds_pln_test.apply(lambda row: crear_columnas_pnl(row,col), axis=1)\n",
    "\n",
    "\n",
    "ds_pln_train.drop('property_description', axis =1, inplace = True)\n",
    "ds_pln_test.drop('property_description', axis =1, inplace = True)\n",
    "ds_pln_train.drop('Unnamed: 0', axis =1, inplace = True)\n",
    "ds_pln_test.drop('Unnamed: 0', axis =1, inplace = True)"
   ]
  },
  {
   "cell_type": "markdown",
   "metadata": {
    "id": "iXawSV2vpPP3"
   },
   "source": [
    "Exportamos los Datasets a sus correspondientes CSVs"
   ]
  },
  {
   "cell_type": "code",
   "execution_count": 34,
   "metadata": {
    "id": "NhD8gygDAuj2"
   },
   "outputs": [],
   "source": [
    "ds_pln_train.to_csv('ds_pln_train')\n",
    "ds_pln_test.to_csv('ds_pln_test')"
   ]
  },
  {
   "cell_type": "markdown",
   "metadata": {
    "id": "0yB5FkCypV5H"
   },
   "source": [
    "Usamos una tecnica basada en frecuencia y palabras que indican “carga de valor” y creamos sus columnas correspondientes al estilo \"one-hot encoding\", usamos una expresion regular para realizar una limpieza de las descripciones y normlizamos el texto para hacer mas facil su analisis. "
   ]
  }
 ],
 "metadata": {
  "colab": {
   "provenance": []
  },
  "kernelspec": {
   "display_name": "Python 3 (ipykernel)",
   "language": "python",
   "name": "python3"
  },
  "language_info": {
   "codemirror_mode": {
    "name": "ipython",
    "version": 3
   },
   "file_extension": ".py",
   "mimetype": "text/x-python",
   "name": "python",
   "nbconvert_exporter": "python",
   "pygments_lexer": "ipython3",
   "version": "3.10.8"
  }
 },
 "nbformat": 4,
 "nbformat_minor": 1
}
